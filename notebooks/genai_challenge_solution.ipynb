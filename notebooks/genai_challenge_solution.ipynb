{
  "nbformat": 4,
  "nbformat_minor": 0,
  "metadata": {
    "colab": {
      "provenance": [],
      "gpuType": "T4",
      "collapsed_sections": [
        "gwaNKbjcWKOe",
        "abnERtgkWxBr",
        "esCZgvywbYjT",
        "4Ya9bvXnOqcz",
        "Vi1rLOek0EkU",
        "KSTsu3nN51uO",
        "ZO5k7IJHJq1E",
        "WrLRR9YeUVSY",
        "rzmHk3tn8vZu",
        "deBvIrox8xAE",
        "wn59exerKQ4x"
      ]
    },
    "kernelspec": {
      "name": "python3",
      "display_name": "Python 3"
    },
    "language_info": {
      "name": "python"
    },
    "accelerator": "GPU"
  },
  "cells": [
    {
      "cell_type": "markdown",
      "source": [
        "<center>\n",
        "  <img src=\"https://www.iasonltd.com/logo_full.svg\" alt=\"Polimi Logo\" width=\"200\">\n",
        "  <h4></h4>\n",
        "  <h1> GenAI for Data Analysis </h1>\n",
        "</center>"
      ],
      "metadata": {
        "id": "lOSgtO35IEfJ"
      }
    },
    {
      "cell_type": "markdown",
      "source": [
        "# Introduction"
      ],
      "metadata": {
        "id": "mZSuJ2XNIEfZ"
      }
    },
    {
      "cell_type": "markdown",
      "source": [
        "Welcome to the **GenAI for Data Analysis Challenge!** In this notebook, you'll explore how to leverage **Generative AI** techniques for data analysis, focusing on tool and model structures using **LangChain** with a Large Language Model (LLM), **LLaMA**. Your goal will be to analyze a **Yahoo Finance dataset** and build a model capable of generating automatic summaries and providing feedback based on user queries.\n",
        "\n",
        "As part of this challenge, you will learn:\n",
        "\n",
        "- **Prompt engineering**: Learn how to craft effective prompts that guide the LLM to produce accurate and relevant results.\n",
        "- **Binding tools to the LLM**: Discover how to enhance the LLM’s functionality by integrating external tools, making it more versatile and capable of complex data operations.\n",
        "- **Utilizing LangGraph**: A key part of the challenge will involve working with **LangGraph**, a powerful framework that simplifies the process of connecting different tools and models, allowing you to build more dynamic and interactive AI systems.\n",
        "\n",
        "By the end of this notebook, you will have hands-on experience in setting up a robust AI pipeline that transforms raw data into actionable insights and user-friendly summaries, all through the seamless integration of LangChain.\n"
      ],
      "metadata": {
        "id": "2jM60K2zIEfZ"
      }
    },
    {
      "cell_type": "markdown",
      "source": [
        "## Overview of LangChain"
      ],
      "metadata": {
        "id": "Qy9ezjrNUlQ-"
      }
    },
    {
      "cell_type": "markdown",
      "source": [
        "**LangChain** is a versatile framework designed to simplify the development of applications that leverage large language models (LLMs). It offers abstractions for creating custom tools, managing prompts and templates, handling conversational memory, and orchestrating complex workflows. LangChain empowers developers to build sophisticated data agents that interact seamlessly with various data sources and provide intelligent, context-aware responses."
      ],
      "metadata": {
        "id": "uLiepjqQUpZ4"
      }
    },
    {
      "cell_type": "markdown",
      "source": [
        "**Key Features:**\n",
        "\n",
        "\n",
        "*   **Prompt Management:** Create and manage dynamic prompts and templates.\n",
        "*   **Tool Integration:** Connect LLMs with external APIs and data sources.\n",
        "*   **Memory Handling:** Maintain conversational context and state across interactions.\n",
        "*   **Chain Building:** Orchestrate multi-step processes and workflows.\n",
        "\n"
      ],
      "metadata": {
        "id": "dkWJjdPZUvCi"
      }
    },
    {
      "cell_type": "markdown",
      "source": [
        "For comprehensive documentation, visit the [LangChain Documentation](https://python.langchain.com/docs/introduction/#:~:text=LangChain%20is%20a%20framework%20for%20developing)."
      ],
      "metadata": {
        "id": "LOlyze3rVdlr"
      }
    },
    {
      "cell_type": "markdown",
      "source": [
        "## Environment Setup"
      ],
      "metadata": {
        "id": "gwaNKbjcWKOe"
      }
    },
    {
      "cell_type": "markdown",
      "source": [
        "Before diving into the implementation, ensure that all necessary libraries are installed. This setup includes LangChain, Hugging Face Transformers, and other essential packages for data handling and visualization."
      ],
      "metadata": {
        "id": "t7560z4AWMw1"
      }
    },
    {
      "cell_type": "code",
      "source": [
        "# Install required libraries\n",
        "!pip install langchain transformers pandas matplotlib torch huggingface_hub langchain_huggingface langgraph langchain-ollama langchain_experimental duckduckgo-search --quiet"
      ],
      "metadata": {
        "id": "6QyUXnU3WMJR",
        "colab": {
          "base_uri": "https://localhost:8080/"
        },
        "outputId": "b9b88767-ee5f-443f-ee58-c9dfa88a61e3"
      },
      "execution_count": 1,
      "outputs": [
        {
          "output_type": "stream",
          "name": "stdout",
          "text": [
            "\u001b[2K     \u001b[90m━━━━━━━━━━━━━━━━━━━━━━━━━━━━━━━━━━━━━━━━\u001b[0m \u001b[32m50.6/50.6 kB\u001b[0m \u001b[31m1.7 MB/s\u001b[0m eta \u001b[36m0:00:00\u001b[0m\n",
            "\u001b[2K   \u001b[90m━━━━━━━━━━━━━━━━━━━━━━━━━━━━━━━━━━━━━━━━\u001b[0m \u001b[32m1.0/1.0 MB\u001b[0m \u001b[31m34.0 MB/s\u001b[0m eta \u001b[36m0:00:00\u001b[0m\n",
            "\u001b[2K   \u001b[90m━━━━━━━━━━━━━━━━━━━━━━━━━━━━━━━━━━━━━━━━\u001b[0m \u001b[32m113.5/113.5 kB\u001b[0m \u001b[31m9.7 MB/s\u001b[0m eta \u001b[36m0:00:00\u001b[0m\n",
            "\u001b[2K   \u001b[90m━━━━━━━━━━━━━━━━━━━━━━━━━━━━━━━━━━━━━━━━\u001b[0m \u001b[32m208.1/208.1 kB\u001b[0m \u001b[31m11.5 MB/s\u001b[0m eta \u001b[36m0:00:00\u001b[0m\n",
            "\u001b[2K   \u001b[90m━━━━━━━━━━━━━━━━━━━━━━━━━━━━━━━━━━━━━━━━\u001b[0m \u001b[32m2.4/2.4 MB\u001b[0m \u001b[31m34.0 MB/s\u001b[0m eta \u001b[36m0:00:00\u001b[0m\n",
            "\u001b[2K   \u001b[90m━━━━━━━━━━━━━━━━━━━━━━━━━━━━━━━━━━━━━━━━\u001b[0m \u001b[32m407.7/407.7 kB\u001b[0m \u001b[31m24.9 MB/s\u001b[0m eta \u001b[36m0:00:00\u001b[0m\n",
            "\u001b[2K   \u001b[90m━━━━━━━━━━━━━━━━━━━━━━━━━━━━━━━━━━━━━━━━\u001b[0m \u001b[32m296.9/296.9 kB\u001b[0m \u001b[31m18.1 MB/s\u001b[0m eta \u001b[36m0:00:00\u001b[0m\n",
            "\u001b[2K   \u001b[90m━━━━━━━━━━━━━━━━━━━━━━━━━━━━━━━━━━━━━━━━\u001b[0m \u001b[32m3.0/3.0 MB\u001b[0m \u001b[31m44.6 MB/s\u001b[0m eta \u001b[36m0:00:00\u001b[0m\n",
            "\u001b[2K   \u001b[90m━━━━━━━━━━━━━━━━━━━━━━━━━━━━━━━━━━━━━━━━\u001b[0m \u001b[32m255.8/255.8 kB\u001b[0m \u001b[31m9.0 MB/s\u001b[0m eta \u001b[36m0:00:00\u001b[0m\n",
            "\u001b[2K   \u001b[90m━━━━━━━━━━━━━━━━━━━━━━━━━━━━━━━━━━━━━━━━\u001b[0m \u001b[32m76.4/76.4 kB\u001b[0m \u001b[31m6.9 MB/s\u001b[0m eta \u001b[36m0:00:00\u001b[0m\n",
            "\u001b[2K   \u001b[90m━━━━━━━━━━━━━━━━━━━━━━━━━━━━━━━━━━━━━━━━\u001b[0m \u001b[32m78.0/78.0 kB\u001b[0m \u001b[31m6.3 MB/s\u001b[0m eta \u001b[36m0:00:00\u001b[0m\n",
            "\u001b[2K   \u001b[90m━━━━━━━━━━━━━━━━━━━━━━━━━━━━━━━━━━━━━━━━\u001b[0m \u001b[32m144.5/144.5 kB\u001b[0m \u001b[31m5.2 MB/s\u001b[0m eta \u001b[36m0:00:00\u001b[0m\n",
            "\u001b[2K   \u001b[90m━━━━━━━━━━━━━━━━━━━━━━━━━━━━━━━━━━━━━━━━\u001b[0m \u001b[32m54.5/54.5 kB\u001b[0m \u001b[31m2.2 MB/s\u001b[0m eta \u001b[36m0:00:00\u001b[0m\n",
            "\u001b[2K   \u001b[90m━━━━━━━━━━━━━━━━━━━━━━━━━━━━━━━━━━━━━━━━\u001b[0m \u001b[32m49.5/49.5 kB\u001b[0m \u001b[31m1.4 MB/s\u001b[0m eta \u001b[36m0:00:00\u001b[0m\n",
            "\u001b[2K   \u001b[90m━━━━━━━━━━━━━━━━━━━━━━━━━━━━━━━━━━━━━━━━\u001b[0m \u001b[32m58.3/58.3 kB\u001b[0m \u001b[31m2.1 MB/s\u001b[0m eta \u001b[36m0:00:00\u001b[0m\n",
            "\u001b[?25h"
          ]
        }
      ]
    },
    {
      "cell_type": "markdown",
      "source": [
        "*Note: The `--quiet` flag suppresses installation logs for a cleaner notebook interface.* *italicized text*"
      ],
      "metadata": {
        "id": "rhKTl2IXWUom"
      }
    },
    {
      "cell_type": "markdown",
      "source": [
        "## Import Libraries"
      ],
      "metadata": {
        "id": "abnERtgkWxBr"
      }
    },
    {
      "cell_type": "markdown",
      "source": [
        "Import all necessary libraries for data manipulation, modeling, and LangChain functionalities."
      ],
      "metadata": {
        "id": "5H-RARkKWzA5"
      }
    },
    {
      "cell_type": "code",
      "execution_count": 12,
      "metadata": {
        "id": "f0U_OaMgKFBa"
      },
      "outputs": [],
      "source": [
        "import pandas as pd\n",
        "import matplotlib.pyplot as plt\n",
        "from transformers import AutoTokenizer, AutoModelForCausalLM, pipeline\n",
        "import torch\n",
        "\n",
        "# LangChain imports\n",
        "from langchain import LLMChain, PromptTemplate\n",
        "from langchain_huggingface.llms import HuggingFacePipeline\n",
        "from langchain.agents import Tool, initialize_agent\n",
        "\n",
        "from IPython.display import clear_output\n",
        "import os\n",
        "import threading\n",
        "import subprocess\n",
        "import requests\n",
        "import json\n",
        "\n",
        "from langchain_ollama import ChatOllama\n",
        "from langchain_core.tools import tool\n",
        "from langchain_core.messages import ToolMessage\n",
        "from langchain_core.messages import HumanMessage\n",
        "from langchain_core.messages.system import SystemMessage\n",
        "import operator\n",
        "from typing import Annotated, Sequence, TypedDict\n",
        "from langgraph.graph.message import AnyMessage, add_messages\n",
        "from langchain_core.messages import BaseMessage\n",
        "import matplotlib.pyplot as plt\n",
        "import matplotlib.dates as mdates\n",
        "from typing import List\n",
        "from typing import Tuple, Dict, Any\n",
        "from langchain_core.prompts import (ChatPromptTemplate,AIMessagePromptTemplate, MessagesPlaceholder)\n",
        "from langchain_core.messages import ToolMessage\n",
        "from langchain.schema import HumanMessage, AIMessage\n",
        "from langgraph.prebuilt import ToolInvocation\n",
        "from langchain_core.runnables import RunnableLambda\n",
        "from langgraph.prebuilt import ToolNode\n",
        "from IPython.display import Image, display\n",
        "from langgraph.graph import END, StateGraph, START\n",
        "from langchain_community.tools import DuckDuckGoSearchRun\n",
        "from langchain_experimental.utilities import PythonREPL"
      ]
    },
    {
      "cell_type": "markdown",
      "source": [
        "#  Data Acquisition and Exploration"
      ],
      "metadata": {
        "id": "QrAL-SzDaxiy"
      }
    },
    {
      "cell_type": "code",
      "source": [
        "url_historical_1 = 'https://raw.githubusercontent.com/havvanilsuoz/polimi_fintech/refs/heads/main/data/historical_data_1.csv'\n",
        "url_historical_2 = 'https://raw.githubusercontent.com/havvanilsuoz/polimi_fintech/refs/heads/main/data/historical_data_2.csv'\n",
        "url_metadata = 'https://raw.githubusercontent.com/havvanilsuoz/polimi_fintech/refs/heads/main/data/metadata.csv'\n",
        "url_largest_companies = 'https://raw.githubusercontent.com/havvanilsuoz/polimi_fintech/refs/heads/main/data/largest_companies.csv'"
      ],
      "metadata": {
        "id": "aac6xsHuayX-"
      },
      "execution_count": 3,
      "outputs": []
    },
    {
      "cell_type": "code",
      "source": [
        "historical_1 = pd.read_csv(url_historical_1)\n",
        "historical_2 = pd.read_csv(url_historical_2)\n",
        "\n",
        "historical_df = pd.concat([historical_1, historical_2], ignore_index=True)"
      ],
      "metadata": {
        "id": "AMOM22q1f_eR"
      },
      "execution_count": 4,
      "outputs": []
    },
    {
      "cell_type": "code",
      "source": [
        "historical_df.head()"
      ],
      "metadata": {
        "colab": {
          "base_uri": "https://localhost:8080/",
          "height": 206
        },
        "id": "rbe6iKyQjZV9",
        "outputId": "df45723b-f6f4-4859-df73-a0760e1c07dd"
      },
      "execution_count": 5,
      "outputs": [
        {
          "output_type": "execute_result",
          "data": {
            "text/plain": [
              "         date       open       high        low      close   volume  \\\n",
              "0  2023-01-03  68.635002  69.209999  68.065002  68.480003  3541400   \n",
              "1  2023-01-04  69.330002  69.334999  68.029999  68.385002  2777400   \n",
              "2  2023-01-05  67.775002  68.574997  67.690002  68.125000  3049400   \n",
              "3  2023-01-06  68.504997  69.525002  68.254997  69.320000  2308000   \n",
              "4  2023-01-09  69.370003  69.525002  68.474998  68.614998  2418800   \n",
              "\n",
              "   split_ratio  dividend symbol  capital_gains  \n",
              "0          0.0       0.0    NVO            NaN  \n",
              "1          0.0       0.0    NVO            NaN  \n",
              "2          0.0       0.0    NVO            NaN  \n",
              "3          0.0       0.0    NVO            NaN  \n",
              "4          0.0       0.0    NVO            NaN  "
            ],
            "text/html": [
              "\n",
              "  <div id=\"df-6bf78211-7186-4505-9cba-28e79fe05f9b\" class=\"colab-df-container\">\n",
              "    <div>\n",
              "<style scoped>\n",
              "    .dataframe tbody tr th:only-of-type {\n",
              "        vertical-align: middle;\n",
              "    }\n",
              "\n",
              "    .dataframe tbody tr th {\n",
              "        vertical-align: top;\n",
              "    }\n",
              "\n",
              "    .dataframe thead th {\n",
              "        text-align: right;\n",
              "    }\n",
              "</style>\n",
              "<table border=\"1\" class=\"dataframe\">\n",
              "  <thead>\n",
              "    <tr style=\"text-align: right;\">\n",
              "      <th></th>\n",
              "      <th>date</th>\n",
              "      <th>open</th>\n",
              "      <th>high</th>\n",
              "      <th>low</th>\n",
              "      <th>close</th>\n",
              "      <th>volume</th>\n",
              "      <th>split_ratio</th>\n",
              "      <th>dividend</th>\n",
              "      <th>symbol</th>\n",
              "      <th>capital_gains</th>\n",
              "    </tr>\n",
              "  </thead>\n",
              "  <tbody>\n",
              "    <tr>\n",
              "      <th>0</th>\n",
              "      <td>2023-01-03</td>\n",
              "      <td>68.635002</td>\n",
              "      <td>69.209999</td>\n",
              "      <td>68.065002</td>\n",
              "      <td>68.480003</td>\n",
              "      <td>3541400</td>\n",
              "      <td>0.0</td>\n",
              "      <td>0.0</td>\n",
              "      <td>NVO</td>\n",
              "      <td>NaN</td>\n",
              "    </tr>\n",
              "    <tr>\n",
              "      <th>1</th>\n",
              "      <td>2023-01-04</td>\n",
              "      <td>69.330002</td>\n",
              "      <td>69.334999</td>\n",
              "      <td>68.029999</td>\n",
              "      <td>68.385002</td>\n",
              "      <td>2777400</td>\n",
              "      <td>0.0</td>\n",
              "      <td>0.0</td>\n",
              "      <td>NVO</td>\n",
              "      <td>NaN</td>\n",
              "    </tr>\n",
              "    <tr>\n",
              "      <th>2</th>\n",
              "      <td>2023-01-05</td>\n",
              "      <td>67.775002</td>\n",
              "      <td>68.574997</td>\n",
              "      <td>67.690002</td>\n",
              "      <td>68.125000</td>\n",
              "      <td>3049400</td>\n",
              "      <td>0.0</td>\n",
              "      <td>0.0</td>\n",
              "      <td>NVO</td>\n",
              "      <td>NaN</td>\n",
              "    </tr>\n",
              "    <tr>\n",
              "      <th>3</th>\n",
              "      <td>2023-01-06</td>\n",
              "      <td>68.504997</td>\n",
              "      <td>69.525002</td>\n",
              "      <td>68.254997</td>\n",
              "      <td>69.320000</td>\n",
              "      <td>2308000</td>\n",
              "      <td>0.0</td>\n",
              "      <td>0.0</td>\n",
              "      <td>NVO</td>\n",
              "      <td>NaN</td>\n",
              "    </tr>\n",
              "    <tr>\n",
              "      <th>4</th>\n",
              "      <td>2023-01-09</td>\n",
              "      <td>69.370003</td>\n",
              "      <td>69.525002</td>\n",
              "      <td>68.474998</td>\n",
              "      <td>68.614998</td>\n",
              "      <td>2418800</td>\n",
              "      <td>0.0</td>\n",
              "      <td>0.0</td>\n",
              "      <td>NVO</td>\n",
              "      <td>NaN</td>\n",
              "    </tr>\n",
              "  </tbody>\n",
              "</table>\n",
              "</div>\n",
              "    <div class=\"colab-df-buttons\">\n",
              "\n",
              "  <div class=\"colab-df-container\">\n",
              "    <button class=\"colab-df-convert\" onclick=\"convertToInteractive('df-6bf78211-7186-4505-9cba-28e79fe05f9b')\"\n",
              "            title=\"Convert this dataframe to an interactive table.\"\n",
              "            style=\"display:none;\">\n",
              "\n",
              "  <svg xmlns=\"http://www.w3.org/2000/svg\" height=\"24px\" viewBox=\"0 -960 960 960\">\n",
              "    <path d=\"M120-120v-720h720v720H120Zm60-500h600v-160H180v160Zm220 220h160v-160H400v160Zm0 220h160v-160H400v160ZM180-400h160v-160H180v160Zm440 0h160v-160H620v160ZM180-180h160v-160H180v160Zm440 0h160v-160H620v160Z\"/>\n",
              "  </svg>\n",
              "    </button>\n",
              "\n",
              "  <style>\n",
              "    .colab-df-container {\n",
              "      display:flex;\n",
              "      gap: 12px;\n",
              "    }\n",
              "\n",
              "    .colab-df-convert {\n",
              "      background-color: #E8F0FE;\n",
              "      border: none;\n",
              "      border-radius: 50%;\n",
              "      cursor: pointer;\n",
              "      display: none;\n",
              "      fill: #1967D2;\n",
              "      height: 32px;\n",
              "      padding: 0 0 0 0;\n",
              "      width: 32px;\n",
              "    }\n",
              "\n",
              "    .colab-df-convert:hover {\n",
              "      background-color: #E2EBFA;\n",
              "      box-shadow: 0px 1px 2px rgba(60, 64, 67, 0.3), 0px 1px 3px 1px rgba(60, 64, 67, 0.15);\n",
              "      fill: #174EA6;\n",
              "    }\n",
              "\n",
              "    .colab-df-buttons div {\n",
              "      margin-bottom: 4px;\n",
              "    }\n",
              "\n",
              "    [theme=dark] .colab-df-convert {\n",
              "      background-color: #3B4455;\n",
              "      fill: #D2E3FC;\n",
              "    }\n",
              "\n",
              "    [theme=dark] .colab-df-convert:hover {\n",
              "      background-color: #434B5C;\n",
              "      box-shadow: 0px 1px 3px 1px rgba(0, 0, 0, 0.15);\n",
              "      filter: drop-shadow(0px 1px 2px rgba(0, 0, 0, 0.3));\n",
              "      fill: #FFFFFF;\n",
              "    }\n",
              "  </style>\n",
              "\n",
              "    <script>\n",
              "      const buttonEl =\n",
              "        document.querySelector('#df-6bf78211-7186-4505-9cba-28e79fe05f9b button.colab-df-convert');\n",
              "      buttonEl.style.display =\n",
              "        google.colab.kernel.accessAllowed ? 'block' : 'none';\n",
              "\n",
              "      async function convertToInteractive(key) {\n",
              "        const element = document.querySelector('#df-6bf78211-7186-4505-9cba-28e79fe05f9b');\n",
              "        const dataTable =\n",
              "          await google.colab.kernel.invokeFunction('convertToInteractive',\n",
              "                                                    [key], {});\n",
              "        if (!dataTable) return;\n",
              "\n",
              "        const docLinkHtml = 'Like what you see? Visit the ' +\n",
              "          '<a target=\"_blank\" href=https://colab.research.google.com/notebooks/data_table.ipynb>data table notebook</a>'\n",
              "          + ' to learn more about interactive tables.';\n",
              "        element.innerHTML = '';\n",
              "        dataTable['output_type'] = 'display_data';\n",
              "        await google.colab.output.renderOutput(dataTable, element);\n",
              "        const docLink = document.createElement('div');\n",
              "        docLink.innerHTML = docLinkHtml;\n",
              "        element.appendChild(docLink);\n",
              "      }\n",
              "    </script>\n",
              "  </div>\n",
              "\n",
              "\n",
              "<div id=\"df-e07f54e7-b1ef-4044-9b3d-e45e43e7d765\">\n",
              "  <button class=\"colab-df-quickchart\" onclick=\"quickchart('df-e07f54e7-b1ef-4044-9b3d-e45e43e7d765')\"\n",
              "            title=\"Suggest charts\"\n",
              "            style=\"display:none;\">\n",
              "\n",
              "<svg xmlns=\"http://www.w3.org/2000/svg\" height=\"24px\"viewBox=\"0 0 24 24\"\n",
              "     width=\"24px\">\n",
              "    <g>\n",
              "        <path d=\"M19 3H5c-1.1 0-2 .9-2 2v14c0 1.1.9 2 2 2h14c1.1 0 2-.9 2-2V5c0-1.1-.9-2-2-2zM9 17H7v-7h2v7zm4 0h-2V7h2v10zm4 0h-2v-4h2v4z\"/>\n",
              "    </g>\n",
              "</svg>\n",
              "  </button>\n",
              "\n",
              "<style>\n",
              "  .colab-df-quickchart {\n",
              "      --bg-color: #E8F0FE;\n",
              "      --fill-color: #1967D2;\n",
              "      --hover-bg-color: #E2EBFA;\n",
              "      --hover-fill-color: #174EA6;\n",
              "      --disabled-fill-color: #AAA;\n",
              "      --disabled-bg-color: #DDD;\n",
              "  }\n",
              "\n",
              "  [theme=dark] .colab-df-quickchart {\n",
              "      --bg-color: #3B4455;\n",
              "      --fill-color: #D2E3FC;\n",
              "      --hover-bg-color: #434B5C;\n",
              "      --hover-fill-color: #FFFFFF;\n",
              "      --disabled-bg-color: #3B4455;\n",
              "      --disabled-fill-color: #666;\n",
              "  }\n",
              "\n",
              "  .colab-df-quickchart {\n",
              "    background-color: var(--bg-color);\n",
              "    border: none;\n",
              "    border-radius: 50%;\n",
              "    cursor: pointer;\n",
              "    display: none;\n",
              "    fill: var(--fill-color);\n",
              "    height: 32px;\n",
              "    padding: 0;\n",
              "    width: 32px;\n",
              "  }\n",
              "\n",
              "  .colab-df-quickchart:hover {\n",
              "    background-color: var(--hover-bg-color);\n",
              "    box-shadow: 0 1px 2px rgba(60, 64, 67, 0.3), 0 1px 3px 1px rgba(60, 64, 67, 0.15);\n",
              "    fill: var(--button-hover-fill-color);\n",
              "  }\n",
              "\n",
              "  .colab-df-quickchart-complete:disabled,\n",
              "  .colab-df-quickchart-complete:disabled:hover {\n",
              "    background-color: var(--disabled-bg-color);\n",
              "    fill: var(--disabled-fill-color);\n",
              "    box-shadow: none;\n",
              "  }\n",
              "\n",
              "  .colab-df-spinner {\n",
              "    border: 2px solid var(--fill-color);\n",
              "    border-color: transparent;\n",
              "    border-bottom-color: var(--fill-color);\n",
              "    animation:\n",
              "      spin 1s steps(1) infinite;\n",
              "  }\n",
              "\n",
              "  @keyframes spin {\n",
              "    0% {\n",
              "      border-color: transparent;\n",
              "      border-bottom-color: var(--fill-color);\n",
              "      border-left-color: var(--fill-color);\n",
              "    }\n",
              "    20% {\n",
              "      border-color: transparent;\n",
              "      border-left-color: var(--fill-color);\n",
              "      border-top-color: var(--fill-color);\n",
              "    }\n",
              "    30% {\n",
              "      border-color: transparent;\n",
              "      border-left-color: var(--fill-color);\n",
              "      border-top-color: var(--fill-color);\n",
              "      border-right-color: var(--fill-color);\n",
              "    }\n",
              "    40% {\n",
              "      border-color: transparent;\n",
              "      border-right-color: var(--fill-color);\n",
              "      border-top-color: var(--fill-color);\n",
              "    }\n",
              "    60% {\n",
              "      border-color: transparent;\n",
              "      border-right-color: var(--fill-color);\n",
              "    }\n",
              "    80% {\n",
              "      border-color: transparent;\n",
              "      border-right-color: var(--fill-color);\n",
              "      border-bottom-color: var(--fill-color);\n",
              "    }\n",
              "    90% {\n",
              "      border-color: transparent;\n",
              "      border-bottom-color: var(--fill-color);\n",
              "    }\n",
              "  }\n",
              "</style>\n",
              "\n",
              "  <script>\n",
              "    async function quickchart(key) {\n",
              "      const quickchartButtonEl =\n",
              "        document.querySelector('#' + key + ' button');\n",
              "      quickchartButtonEl.disabled = true;  // To prevent multiple clicks.\n",
              "      quickchartButtonEl.classList.add('colab-df-spinner');\n",
              "      try {\n",
              "        const charts = await google.colab.kernel.invokeFunction(\n",
              "            'suggestCharts', [key], {});\n",
              "      } catch (error) {\n",
              "        console.error('Error during call to suggestCharts:', error);\n",
              "      }\n",
              "      quickchartButtonEl.classList.remove('colab-df-spinner');\n",
              "      quickchartButtonEl.classList.add('colab-df-quickchart-complete');\n",
              "    }\n",
              "    (() => {\n",
              "      let quickchartButtonEl =\n",
              "        document.querySelector('#df-e07f54e7-b1ef-4044-9b3d-e45e43e7d765 button');\n",
              "      quickchartButtonEl.style.display =\n",
              "        google.colab.kernel.accessAllowed ? 'block' : 'none';\n",
              "    })();\n",
              "  </script>\n",
              "</div>\n",
              "\n",
              "    </div>\n",
              "  </div>\n"
            ],
            "application/vnd.google.colaboratory.intrinsic+json": {
              "type": "dataframe",
              "variable_name": "historical_df"
            }
          },
          "metadata": {},
          "execution_count": 5
        }
      ]
    },
    {
      "cell_type": "code",
      "source": [
        "len(historical_df['symbol'].unique())"
      ],
      "metadata": {
        "colab": {
          "base_uri": "https://localhost:8080/"
        },
        "id": "G8ErOgK4qJ9q",
        "outputId": "06c42acb-bd73-4c47-a878-bbdefd3e194a"
      },
      "execution_count": null,
      "outputs": [
        {
          "output_type": "execute_result",
          "data": {
            "text/plain": [
              "1664"
            ]
          },
          "metadata": {},
          "execution_count": 14
        }
      ]
    },
    {
      "cell_type": "code",
      "source": [
        "metadata_df = pd.read_csv(url_metadata, index_col='symbol')\n",
        "metadata_df.head()"
      ],
      "metadata": {
        "colab": {
          "base_uri": "https://localhost:8080/",
          "height": 443
        },
        "id": "cD74q3uEjfvp",
        "outputId": "7f904b78-a9b1-478a-8215-4c2c0daad452"
      },
      "execution_count": 6,
      "outputs": [
        {
          "output_type": "execute_result",
          "data": {
            "text/plain": [
              "            country                             industry             sector  \\\n",
              "symbol                                                                        \n",
              "NVO         Denmark                        Biotechnology         Healthcare   \n",
              "MC.PA        France                         Luxury Goods  Consumer Cyclical   \n",
              "ASML    Netherlands  Semiconductor Equipment & Materials         Technology   \n",
              "SAP         Germany               Software - Application         Technology   \n",
              "RMS.PA       France                         Luxury Goods  Consumer Cyclical   \n",
              "\n",
              "                                      longBusinessSummary  dividendRate  \\\n",
              "symbol                                                                    \n",
              "NVO     Novo Nordisk A/S, together with its subsidiari...          1.45   \n",
              "MC.PA   LVMH Moët Hennessy - Louis Vuitton, Société Eu...         13.00   \n",
              "ASML    ASML Holding N.V. develops, produces, markets,...          6.65   \n",
              "SAP     SAP SE, together with its subsidiaries, provid...          2.39   \n",
              "RMS.PA  Hermès International Société en commandite par...         15.00   \n",
              "\n",
              "        dividendYield  payoutRatio   beta  trailingPE  forwardPE  ...  \\\n",
              "symbol                                                            ...   \n",
              "NVO            0.0123       0.4702  0.148   39.676270  28.001198  ...   \n",
              "MC.PA          0.0204       0.4653  0.963   21.374374  17.305130  ...   \n",
              "ASML           0.0091       0.3517    NaN   35.783710  21.677864  ...   \n",
              "SAP            0.0104       1.0195  0.921   96.974580  33.955490  ...   \n",
              "RMS.PA         0.0071       0.3534  0.706   48.186530  40.797607  ...   \n",
              "\n",
              "        currentRatio  totalRevenue  debtToEquity  revenuePerShare  \\\n",
              "symbol                                                              \n",
              "NVO            0.945  2.580030e+11        50.710        57.802000   \n",
              "MC.PA          1.381  8.559000e+10        61.449       171.319000   \n",
              "ASML           1.551  2.623710e+10        29.051         1.200402   \n",
              "SAP            1.120  3.254300e+10        20.820        27.898000   \n",
              "RMS.PA         4.108  1.423300e+10        14.465       135.870000   \n",
              "\n",
              "        returnOnAssets returnOnEquity  freeCashflow  operatingCashflow  \\\n",
              "symbol                                                                   \n",
              "NVO            0.22798        0.88572  5.448838e+10       1.153340e+11   \n",
              "MC.PA          0.09632        0.23210  9.772125e+09       1.893400e+10   \n",
              "ASML           0.12707        0.49216  4.977000e+08       4.818400e+09   \n",
              "SAP            0.06575        0.06100  9.452000e+09       7.389000e+09   \n",
              "RMS.PA         0.19178        0.31544  3.285375e+09       4.466000e+09   \n",
              "\n",
              "        operatingMargins  financialCurrency  \n",
              "symbol                                       \n",
              "NVO              0.46480                DKK  \n",
              "MC.PA            0.25573                EUR  \n",
              "ASML             0.32692                EUR  \n",
              "SAP              0.23417                EUR  \n",
              "RMS.PA           0.42124                EUR  \n",
              "\n",
              "[5 rows x 49 columns]"
            ],
            "text/html": [
              "\n",
              "  <div id=\"df-83401a66-eade-40f6-81c1-35a30b79fe90\" class=\"colab-df-container\">\n",
              "    <div>\n",
              "<style scoped>\n",
              "    .dataframe tbody tr th:only-of-type {\n",
              "        vertical-align: middle;\n",
              "    }\n",
              "\n",
              "    .dataframe tbody tr th {\n",
              "        vertical-align: top;\n",
              "    }\n",
              "\n",
              "    .dataframe thead th {\n",
              "        text-align: right;\n",
              "    }\n",
              "</style>\n",
              "<table border=\"1\" class=\"dataframe\">\n",
              "  <thead>\n",
              "    <tr style=\"text-align: right;\">\n",
              "      <th></th>\n",
              "      <th>country</th>\n",
              "      <th>industry</th>\n",
              "      <th>sector</th>\n",
              "      <th>longBusinessSummary</th>\n",
              "      <th>dividendRate</th>\n",
              "      <th>dividendYield</th>\n",
              "      <th>payoutRatio</th>\n",
              "      <th>beta</th>\n",
              "      <th>trailingPE</th>\n",
              "      <th>forwardPE</th>\n",
              "      <th>...</th>\n",
              "      <th>currentRatio</th>\n",
              "      <th>totalRevenue</th>\n",
              "      <th>debtToEquity</th>\n",
              "      <th>revenuePerShare</th>\n",
              "      <th>returnOnAssets</th>\n",
              "      <th>returnOnEquity</th>\n",
              "      <th>freeCashflow</th>\n",
              "      <th>operatingCashflow</th>\n",
              "      <th>operatingMargins</th>\n",
              "      <th>financialCurrency</th>\n",
              "    </tr>\n",
              "    <tr>\n",
              "      <th>symbol</th>\n",
              "      <th></th>\n",
              "      <th></th>\n",
              "      <th></th>\n",
              "      <th></th>\n",
              "      <th></th>\n",
              "      <th></th>\n",
              "      <th></th>\n",
              "      <th></th>\n",
              "      <th></th>\n",
              "      <th></th>\n",
              "      <th></th>\n",
              "      <th></th>\n",
              "      <th></th>\n",
              "      <th></th>\n",
              "      <th></th>\n",
              "      <th></th>\n",
              "      <th></th>\n",
              "      <th></th>\n",
              "      <th></th>\n",
              "      <th></th>\n",
              "      <th></th>\n",
              "    </tr>\n",
              "  </thead>\n",
              "  <tbody>\n",
              "    <tr>\n",
              "      <th>NVO</th>\n",
              "      <td>Denmark</td>\n",
              "      <td>Biotechnology</td>\n",
              "      <td>Healthcare</td>\n",
              "      <td>Novo Nordisk A/S, together with its subsidiari...</td>\n",
              "      <td>1.45</td>\n",
              "      <td>0.0123</td>\n",
              "      <td>0.4702</td>\n",
              "      <td>0.148</td>\n",
              "      <td>39.676270</td>\n",
              "      <td>28.001198</td>\n",
              "      <td>...</td>\n",
              "      <td>0.945</td>\n",
              "      <td>2.580030e+11</td>\n",
              "      <td>50.710</td>\n",
              "      <td>57.802000</td>\n",
              "      <td>0.22798</td>\n",
              "      <td>0.88572</td>\n",
              "      <td>5.448838e+10</td>\n",
              "      <td>1.153340e+11</td>\n",
              "      <td>0.46480</td>\n",
              "      <td>DKK</td>\n",
              "    </tr>\n",
              "    <tr>\n",
              "      <th>MC.PA</th>\n",
              "      <td>France</td>\n",
              "      <td>Luxury Goods</td>\n",
              "      <td>Consumer Cyclical</td>\n",
              "      <td>LVMH Moët Hennessy - Louis Vuitton, Société Eu...</td>\n",
              "      <td>13.00</td>\n",
              "      <td>0.0204</td>\n",
              "      <td>0.4653</td>\n",
              "      <td>0.963</td>\n",
              "      <td>21.374374</td>\n",
              "      <td>17.305130</td>\n",
              "      <td>...</td>\n",
              "      <td>1.381</td>\n",
              "      <td>8.559000e+10</td>\n",
              "      <td>61.449</td>\n",
              "      <td>171.319000</td>\n",
              "      <td>0.09632</td>\n",
              "      <td>0.23210</td>\n",
              "      <td>9.772125e+09</td>\n",
              "      <td>1.893400e+10</td>\n",
              "      <td>0.25573</td>\n",
              "      <td>EUR</td>\n",
              "    </tr>\n",
              "    <tr>\n",
              "      <th>ASML</th>\n",
              "      <td>Netherlands</td>\n",
              "      <td>Semiconductor Equipment &amp; Materials</td>\n",
              "      <td>Technology</td>\n",
              "      <td>ASML Holding N.V. develops, produces, markets,...</td>\n",
              "      <td>6.65</td>\n",
              "      <td>0.0091</td>\n",
              "      <td>0.3517</td>\n",
              "      <td>NaN</td>\n",
              "      <td>35.783710</td>\n",
              "      <td>21.677864</td>\n",
              "      <td>...</td>\n",
              "      <td>1.551</td>\n",
              "      <td>2.623710e+10</td>\n",
              "      <td>29.051</td>\n",
              "      <td>1.200402</td>\n",
              "      <td>0.12707</td>\n",
              "      <td>0.49216</td>\n",
              "      <td>4.977000e+08</td>\n",
              "      <td>4.818400e+09</td>\n",
              "      <td>0.32692</td>\n",
              "      <td>EUR</td>\n",
              "    </tr>\n",
              "    <tr>\n",
              "      <th>SAP</th>\n",
              "      <td>Germany</td>\n",
              "      <td>Software - Application</td>\n",
              "      <td>Technology</td>\n",
              "      <td>SAP SE, together with its subsidiaries, provid...</td>\n",
              "      <td>2.39</td>\n",
              "      <td>0.0104</td>\n",
              "      <td>1.0195</td>\n",
              "      <td>0.921</td>\n",
              "      <td>96.974580</td>\n",
              "      <td>33.955490</td>\n",
              "      <td>...</td>\n",
              "      <td>1.120</td>\n",
              "      <td>3.254300e+10</td>\n",
              "      <td>20.820</td>\n",
              "      <td>27.898000</td>\n",
              "      <td>0.06575</td>\n",
              "      <td>0.06100</td>\n",
              "      <td>9.452000e+09</td>\n",
              "      <td>7.389000e+09</td>\n",
              "      <td>0.23417</td>\n",
              "      <td>EUR</td>\n",
              "    </tr>\n",
              "    <tr>\n",
              "      <th>RMS.PA</th>\n",
              "      <td>France</td>\n",
              "      <td>Luxury Goods</td>\n",
              "      <td>Consumer Cyclical</td>\n",
              "      <td>Hermès International Société en commandite par...</td>\n",
              "      <td>15.00</td>\n",
              "      <td>0.0071</td>\n",
              "      <td>0.3534</td>\n",
              "      <td>0.706</td>\n",
              "      <td>48.186530</td>\n",
              "      <td>40.797607</td>\n",
              "      <td>...</td>\n",
              "      <td>4.108</td>\n",
              "      <td>1.423300e+10</td>\n",
              "      <td>14.465</td>\n",
              "      <td>135.870000</td>\n",
              "      <td>0.19178</td>\n",
              "      <td>0.31544</td>\n",
              "      <td>3.285375e+09</td>\n",
              "      <td>4.466000e+09</td>\n",
              "      <td>0.42124</td>\n",
              "      <td>EUR</td>\n",
              "    </tr>\n",
              "  </tbody>\n",
              "</table>\n",
              "<p>5 rows × 49 columns</p>\n",
              "</div>\n",
              "    <div class=\"colab-df-buttons\">\n",
              "\n",
              "  <div class=\"colab-df-container\">\n",
              "    <button class=\"colab-df-convert\" onclick=\"convertToInteractive('df-83401a66-eade-40f6-81c1-35a30b79fe90')\"\n",
              "            title=\"Convert this dataframe to an interactive table.\"\n",
              "            style=\"display:none;\">\n",
              "\n",
              "  <svg xmlns=\"http://www.w3.org/2000/svg\" height=\"24px\" viewBox=\"0 -960 960 960\">\n",
              "    <path d=\"M120-120v-720h720v720H120Zm60-500h600v-160H180v160Zm220 220h160v-160H400v160Zm0 220h160v-160H400v160ZM180-400h160v-160H180v160Zm440 0h160v-160H620v160ZM180-180h160v-160H180v160Zm440 0h160v-160H620v160Z\"/>\n",
              "  </svg>\n",
              "    </button>\n",
              "\n",
              "  <style>\n",
              "    .colab-df-container {\n",
              "      display:flex;\n",
              "      gap: 12px;\n",
              "    }\n",
              "\n",
              "    .colab-df-convert {\n",
              "      background-color: #E8F0FE;\n",
              "      border: none;\n",
              "      border-radius: 50%;\n",
              "      cursor: pointer;\n",
              "      display: none;\n",
              "      fill: #1967D2;\n",
              "      height: 32px;\n",
              "      padding: 0 0 0 0;\n",
              "      width: 32px;\n",
              "    }\n",
              "\n",
              "    .colab-df-convert:hover {\n",
              "      background-color: #E2EBFA;\n",
              "      box-shadow: 0px 1px 2px rgba(60, 64, 67, 0.3), 0px 1px 3px 1px rgba(60, 64, 67, 0.15);\n",
              "      fill: #174EA6;\n",
              "    }\n",
              "\n",
              "    .colab-df-buttons div {\n",
              "      margin-bottom: 4px;\n",
              "    }\n",
              "\n",
              "    [theme=dark] .colab-df-convert {\n",
              "      background-color: #3B4455;\n",
              "      fill: #D2E3FC;\n",
              "    }\n",
              "\n",
              "    [theme=dark] .colab-df-convert:hover {\n",
              "      background-color: #434B5C;\n",
              "      box-shadow: 0px 1px 3px 1px rgba(0, 0, 0, 0.15);\n",
              "      filter: drop-shadow(0px 1px 2px rgba(0, 0, 0, 0.3));\n",
              "      fill: #FFFFFF;\n",
              "    }\n",
              "  </style>\n",
              "\n",
              "    <script>\n",
              "      const buttonEl =\n",
              "        document.querySelector('#df-83401a66-eade-40f6-81c1-35a30b79fe90 button.colab-df-convert');\n",
              "      buttonEl.style.display =\n",
              "        google.colab.kernel.accessAllowed ? 'block' : 'none';\n",
              "\n",
              "      async function convertToInteractive(key) {\n",
              "        const element = document.querySelector('#df-83401a66-eade-40f6-81c1-35a30b79fe90');\n",
              "        const dataTable =\n",
              "          await google.colab.kernel.invokeFunction('convertToInteractive',\n",
              "                                                    [key], {});\n",
              "        if (!dataTable) return;\n",
              "\n",
              "        const docLinkHtml = 'Like what you see? Visit the ' +\n",
              "          '<a target=\"_blank\" href=https://colab.research.google.com/notebooks/data_table.ipynb>data table notebook</a>'\n",
              "          + ' to learn more about interactive tables.';\n",
              "        element.innerHTML = '';\n",
              "        dataTable['output_type'] = 'display_data';\n",
              "        await google.colab.output.renderOutput(dataTable, element);\n",
              "        const docLink = document.createElement('div');\n",
              "        docLink.innerHTML = docLinkHtml;\n",
              "        element.appendChild(docLink);\n",
              "      }\n",
              "    </script>\n",
              "  </div>\n",
              "\n",
              "\n",
              "<div id=\"df-587cb8c8-b472-4578-a2bc-37938cb7883c\">\n",
              "  <button class=\"colab-df-quickchart\" onclick=\"quickchart('df-587cb8c8-b472-4578-a2bc-37938cb7883c')\"\n",
              "            title=\"Suggest charts\"\n",
              "            style=\"display:none;\">\n",
              "\n",
              "<svg xmlns=\"http://www.w3.org/2000/svg\" height=\"24px\"viewBox=\"0 0 24 24\"\n",
              "     width=\"24px\">\n",
              "    <g>\n",
              "        <path d=\"M19 3H5c-1.1 0-2 .9-2 2v14c0 1.1.9 2 2 2h14c1.1 0 2-.9 2-2V5c0-1.1-.9-2-2-2zM9 17H7v-7h2v7zm4 0h-2V7h2v10zm4 0h-2v-4h2v4z\"/>\n",
              "    </g>\n",
              "</svg>\n",
              "  </button>\n",
              "\n",
              "<style>\n",
              "  .colab-df-quickchart {\n",
              "      --bg-color: #E8F0FE;\n",
              "      --fill-color: #1967D2;\n",
              "      --hover-bg-color: #E2EBFA;\n",
              "      --hover-fill-color: #174EA6;\n",
              "      --disabled-fill-color: #AAA;\n",
              "      --disabled-bg-color: #DDD;\n",
              "  }\n",
              "\n",
              "  [theme=dark] .colab-df-quickchart {\n",
              "      --bg-color: #3B4455;\n",
              "      --fill-color: #D2E3FC;\n",
              "      --hover-bg-color: #434B5C;\n",
              "      --hover-fill-color: #FFFFFF;\n",
              "      --disabled-bg-color: #3B4455;\n",
              "      --disabled-fill-color: #666;\n",
              "  }\n",
              "\n",
              "  .colab-df-quickchart {\n",
              "    background-color: var(--bg-color);\n",
              "    border: none;\n",
              "    border-radius: 50%;\n",
              "    cursor: pointer;\n",
              "    display: none;\n",
              "    fill: var(--fill-color);\n",
              "    height: 32px;\n",
              "    padding: 0;\n",
              "    width: 32px;\n",
              "  }\n",
              "\n",
              "  .colab-df-quickchart:hover {\n",
              "    background-color: var(--hover-bg-color);\n",
              "    box-shadow: 0 1px 2px rgba(60, 64, 67, 0.3), 0 1px 3px 1px rgba(60, 64, 67, 0.15);\n",
              "    fill: var(--button-hover-fill-color);\n",
              "  }\n",
              "\n",
              "  .colab-df-quickchart-complete:disabled,\n",
              "  .colab-df-quickchart-complete:disabled:hover {\n",
              "    background-color: var(--disabled-bg-color);\n",
              "    fill: var(--disabled-fill-color);\n",
              "    box-shadow: none;\n",
              "  }\n",
              "\n",
              "  .colab-df-spinner {\n",
              "    border: 2px solid var(--fill-color);\n",
              "    border-color: transparent;\n",
              "    border-bottom-color: var(--fill-color);\n",
              "    animation:\n",
              "      spin 1s steps(1) infinite;\n",
              "  }\n",
              "\n",
              "  @keyframes spin {\n",
              "    0% {\n",
              "      border-color: transparent;\n",
              "      border-bottom-color: var(--fill-color);\n",
              "      border-left-color: var(--fill-color);\n",
              "    }\n",
              "    20% {\n",
              "      border-color: transparent;\n",
              "      border-left-color: var(--fill-color);\n",
              "      border-top-color: var(--fill-color);\n",
              "    }\n",
              "    30% {\n",
              "      border-color: transparent;\n",
              "      border-left-color: var(--fill-color);\n",
              "      border-top-color: var(--fill-color);\n",
              "      border-right-color: var(--fill-color);\n",
              "    }\n",
              "    40% {\n",
              "      border-color: transparent;\n",
              "      border-right-color: var(--fill-color);\n",
              "      border-top-color: var(--fill-color);\n",
              "    }\n",
              "    60% {\n",
              "      border-color: transparent;\n",
              "      border-right-color: var(--fill-color);\n",
              "    }\n",
              "    80% {\n",
              "      border-color: transparent;\n",
              "      border-right-color: var(--fill-color);\n",
              "      border-bottom-color: var(--fill-color);\n",
              "    }\n",
              "    90% {\n",
              "      border-color: transparent;\n",
              "      border-bottom-color: var(--fill-color);\n",
              "    }\n",
              "  }\n",
              "</style>\n",
              "\n",
              "  <script>\n",
              "    async function quickchart(key) {\n",
              "      const quickchartButtonEl =\n",
              "        document.querySelector('#' + key + ' button');\n",
              "      quickchartButtonEl.disabled = true;  // To prevent multiple clicks.\n",
              "      quickchartButtonEl.classList.add('colab-df-spinner');\n",
              "      try {\n",
              "        const charts = await google.colab.kernel.invokeFunction(\n",
              "            'suggestCharts', [key], {});\n",
              "      } catch (error) {\n",
              "        console.error('Error during call to suggestCharts:', error);\n",
              "      }\n",
              "      quickchartButtonEl.classList.remove('colab-df-spinner');\n",
              "      quickchartButtonEl.classList.add('colab-df-quickchart-complete');\n",
              "    }\n",
              "    (() => {\n",
              "      let quickchartButtonEl =\n",
              "        document.querySelector('#df-587cb8c8-b472-4578-a2bc-37938cb7883c button');\n",
              "      quickchartButtonEl.style.display =\n",
              "        google.colab.kernel.accessAllowed ? 'block' : 'none';\n",
              "    })();\n",
              "  </script>\n",
              "</div>\n",
              "\n",
              "    </div>\n",
              "  </div>\n"
            ],
            "application/vnd.google.colaboratory.intrinsic+json": {
              "type": "dataframe",
              "variable_name": "metadata_df"
            }
          },
          "metadata": {},
          "execution_count": 6
        }
      ]
    },
    {
      "cell_type": "code",
      "source": [
        "metadata_df.shape"
      ],
      "metadata": {
        "colab": {
          "base_uri": "https://localhost:8080/"
        },
        "id": "RjHBWoL7lpq_",
        "outputId": "57a3b634-840f-40d8-a2b2-9bcd6f1bc40b"
      },
      "execution_count": 7,
      "outputs": [
        {
          "output_type": "execute_result",
          "data": {
            "text/plain": [
              "(1664, 49)"
            ]
          },
          "metadata": {},
          "execution_count": 7
        }
      ]
    },
    {
      "cell_type": "code",
      "source": [
        "metadata_df.to_csv('metadata.csv')"
      ],
      "metadata": {
        "id": "TpecgUcyQJnu"
      },
      "execution_count": null,
      "outputs": []
    },
    {
      "cell_type": "markdown",
      "source": [
        "# Setting Up the Language Model"
      ],
      "metadata": {
        "id": "esCZgvywbYjT"
      }
    },
    {
      "cell_type": "markdown",
      "source": [
        "This code first installs `pciutils`, a set of tools used to manage PCI devices on the system. Then, it downloads and installs the Ollama API by executing a shell script fetched from the Ollama website using `curl`."
      ],
      "metadata": {
        "id": "7y6rvUeJl2eU"
      }
    },
    {
      "cell_type": "code",
      "source": [
        "!sudo apt-get install -y pciutils\n",
        "!curl -fsSL https://ollama.com/install.sh | sh # download ollama api"
      ],
      "metadata": {
        "id": "ffpZTxHobWQp",
        "colab": {
          "base_uri": "https://localhost:8080/"
        },
        "outputId": "abeabc8b-08ea-4312-eaba-d4493af18751"
      },
      "execution_count": 8,
      "outputs": [
        {
          "output_type": "stream",
          "name": "stdout",
          "text": [
            "Reading package lists... Done\n",
            "Building dependency tree... Done\n",
            "Reading state information... Done\n",
            "The following additional packages will be installed:\n",
            "  libpci3 pci.ids\n",
            "The following NEW packages will be installed:\n",
            "  libpci3 pci.ids pciutils\n",
            "0 upgraded, 3 newly installed, 0 to remove and 49 not upgraded.\n",
            "Need to get 343 kB of archives.\n",
            "After this operation, 1,581 kB of additional disk space will be used.\n",
            "Get:1 http://archive.ubuntu.com/ubuntu jammy/main amd64 pci.ids all 0.0~2022.01.22-1 [251 kB]\n",
            "Get:2 http://archive.ubuntu.com/ubuntu jammy/main amd64 libpci3 amd64 1:3.7.0-6 [28.9 kB]\n",
            "Get:3 http://archive.ubuntu.com/ubuntu jammy/main amd64 pciutils amd64 1:3.7.0-6 [63.6 kB]\n",
            "Fetched 343 kB in 1s (588 kB/s)\n",
            "debconf: unable to initialize frontend: Dialog\n",
            "debconf: (No usable dialog-like program is installed, so the dialog based frontend cannot be used. at /usr/share/perl5/Debconf/FrontEnd/Dialog.pm line 78, <> line 3.)\n",
            "debconf: falling back to frontend: Readline\n",
            "debconf: unable to initialize frontend: Readline\n",
            "debconf: (This frontend requires a controlling tty.)\n",
            "debconf: falling back to frontend: Teletype\n",
            "dpkg-preconfigure: unable to re-open stdin: \n",
            "Selecting previously unselected package pci.ids.\n",
            "(Reading database ... 123622 files and directories currently installed.)\n",
            "Preparing to unpack .../pci.ids_0.0~2022.01.22-1_all.deb ...\n",
            "Unpacking pci.ids (0.0~2022.01.22-1) ...\n",
            "Selecting previously unselected package libpci3:amd64.\n",
            "Preparing to unpack .../libpci3_1%3a3.7.0-6_amd64.deb ...\n",
            "Unpacking libpci3:amd64 (1:3.7.0-6) ...\n",
            "Selecting previously unselected package pciutils.\n",
            "Preparing to unpack .../pciutils_1%3a3.7.0-6_amd64.deb ...\n",
            "Unpacking pciutils (1:3.7.0-6) ...\n",
            "Setting up pci.ids (0.0~2022.01.22-1) ...\n",
            "Setting up libpci3:amd64 (1:3.7.0-6) ...\n",
            "Setting up pciutils (1:3.7.0-6) ...\n",
            "Processing triggers for man-db (2.10.2-1) ...\n",
            "Processing triggers for libc-bin (2.35-0ubuntu3.4) ...\n",
            "/sbin/ldconfig.real: /usr/local/lib/libur_adapter_level_zero.so.0 is not a symbolic link\n",
            "\n",
            "/sbin/ldconfig.real: /usr/local/lib/libtbbbind_2_0.so.3 is not a symbolic link\n",
            "\n",
            "/sbin/ldconfig.real: /usr/local/lib/libtbbbind.so.3 is not a symbolic link\n",
            "\n",
            "/sbin/ldconfig.real: /usr/local/lib/libtbbmalloc_proxy.so.2 is not a symbolic link\n",
            "\n",
            "/sbin/ldconfig.real: /usr/local/lib/libur_adapter_opencl.so.0 is not a symbolic link\n",
            "\n",
            "/sbin/ldconfig.real: /usr/local/lib/libtbbmalloc.so.2 is not a symbolic link\n",
            "\n",
            "/sbin/ldconfig.real: /usr/local/lib/libtbb.so.12 is not a symbolic link\n",
            "\n",
            "/sbin/ldconfig.real: /usr/local/lib/libtbbbind_2_5.so.3 is not a symbolic link\n",
            "\n",
            "/sbin/ldconfig.real: /usr/local/lib/libur_loader.so.0 is not a symbolic link\n",
            "\n",
            ">>> Installing ollama to /usr/local\n",
            ">>> Downloading Linux amd64 bundle\n",
            "############################################################################################# 100.0%\n",
            ">>> Creating ollama user...\n",
            ">>> Adding ollama user to video group...\n",
            ">>> Adding current user to ollama group...\n",
            ">>> Creating ollama systemd service...\n",
            ">>> NVIDIA GPU installed.\n",
            ">>> The Ollama API is now available at 127.0.0.1:11434.\n",
            ">>> Install complete. Run \"ollama\" from the command line.\n"
          ]
        }
      ]
    },
    {
      "cell_type": "markdown",
      "source": [
        "The function `ollama()` configures the environment for the Ollama API by setting the `OLLAMA_HOST` to `0.0.0.0:11434` and allowing all origins through the `OLLAMA_ORIGINS` environment variable. It then starts the Ollama server by invoking the `ollama serve` command in a subprocess. A separate thread is initiated using Python's `threading` module to run the `ollama()` function concurrently, enabling the server to operate in the background while the main program continues execution.\n"
      ],
      "metadata": {
        "id": "HwXehdu6mC0d"
      }
    },
    {
      "cell_type": "code",
      "source": [
        "def ollama():\n",
        "    os.environ['OLLAMA_HOST'] = '0.0.0.0:11434'\n",
        "    os.environ['OLLAMA_ORIGINS'] = '*'\n",
        "    subprocess.Popen([\"ollama\", \"serve\"])\n",
        "\n",
        "ollama_thread = threading.Thread(target=ollama)\n",
        "ollama_thread.start()\n",
        "clear_output()"
      ],
      "metadata": {
        "id": "gGvL6dRowjKv"
      },
      "execution_count": 9,
      "outputs": []
    },
    {
      "cell_type": "markdown",
      "source": [
        "The command `!ollama pull llama3.2:3b` pulls the specific version `3b` of the `Llama 3.2` model using the Ollama API. After the model is downloaded, the `clear_output()` function is used to clear the output of the current cell, keeping the notebook interface clean. Additionally, different versions of the Llama model can be selected by specifying alternative version tags in the command, depending on the desired model size or version.\n"
      ],
      "metadata": {
        "id": "zyv2kZZwmVp4"
      }
    },
    {
      "cell_type": "code",
      "source": [
        "!ollama pull llama3.2:3b\n",
        "clear_output()"
      ],
      "metadata": {
        "id": "FAgteKakwnAX"
      },
      "execution_count": 10,
      "outputs": []
    },
    {
      "cell_type": "markdown",
      "source": [
        "The `ChatOllama` object from LangChain is initialized with the `llama3.2:3b` model. We set the `temperature` to `0` for deterministic responses and `num_predict` to `-1` to allow unlimited token generation. LangChain's `ChatOllama` is used for seamless integration with the Ollama API, simplifying model interaction.\n"
      ],
      "metadata": {
        "id": "_fXxJC-qmtkl"
      }
    },
    {
      "cell_type": "code",
      "source": [
        "model = ChatOllama(model=\"llama3.2:3b\", temperature = 0, num_predict = -1)"
      ],
      "metadata": {
        "id": "Otl-MWNHw7-r"
      },
      "execution_count": 11,
      "outputs": []
    },
    {
      "cell_type": "markdown",
      "source": [
        "Let's try out the model! You can ask queries to observe how the model responds to various inputs."
      ],
      "metadata": {
        "id": "kEsYtJ4KnQyO"
      }
    },
    {
      "cell_type": "code",
      "source": [
        "model.invoke(\"Hello, how are you?\")"
      ],
      "metadata": {
        "colab": {
          "base_uri": "https://localhost:8080/"
        },
        "id": "2ZYo_GfHzmg6",
        "outputId": "3a86b0d7-2861-4519-b3d6-27a11fdbc9df"
      },
      "execution_count": null,
      "outputs": [
        {
          "output_type": "execute_result",
          "data": {
            "text/plain": [
              "AIMessage(content=\"I'm just a language model, so I don't have emotions or feelings like humans do. However, I'm functioning properly and ready to assist you with any questions or tasks you may have! How can I help you today?\", additional_kwargs={}, response_metadata={'model': 'llama3.2:3b', 'created_at': '2024-10-21T08:39:34.830016373Z', 'message': {'role': 'assistant', 'content': ''}, 'done_reason': 'stop', 'done': True, 'total_duration': 12084662698, 'load_duration': 10327188584, 'prompt_eval_count': 31, 'prompt_eval_duration': 161301000, 'eval_count': 47, 'eval_duration': 1543823000}, id='run-7db86df1-8ebf-48f6-8e23-f99fec93d505-0', usage_metadata={'input_tokens': 31, 'output_tokens': 47, 'total_tokens': 78})"
            ]
          },
          "metadata": {},
          "execution_count": 15
        }
      ]
    },
    {
      "cell_type": "markdown",
      "source": [
        "## Prompt Example"
      ],
      "metadata": {
        "id": "4Ya9bvXnOqcz"
      }
    },
    {
      "cell_type": "code",
      "source": [
        "example_prompt_template = \"\"\"\n",
        "Act as a Socrates and answer the question.\n",
        "\n",
        "Question: {question}\n",
        "\n",
        "Answer:\n",
        "\n",
        "\"\"\"\n",
        "\n",
        "example_prompt = ChatPromptTemplate.from_template(example_prompt_template)"
      ],
      "metadata": {
        "id": "kAm8OQFcOpu-"
      },
      "execution_count": null,
      "outputs": []
    },
    {
      "cell_type": "code",
      "source": [
        "model_v1 = example_prompt | model"
      ],
      "metadata": {
        "id": "yn_x0ELjO7iz"
      },
      "execution_count": null,
      "outputs": []
    },
    {
      "cell_type": "code",
      "source": [
        "model_v1.invoke({\"question\": \"How are you?\"})"
      ],
      "metadata": {
        "colab": {
          "base_uri": "https://localhost:8080/"
        },
        "id": "qYbtra0KPMRZ",
        "outputId": "3882bf06-05c4-408d-e973-cef53cab73cd"
      },
      "execution_count": null,
      "outputs": [
        {
          "output_type": "execute_result",
          "data": {
            "text/plain": [
              "AIMessage(content='My young friend, I must ask you to consider what it means to say \"I am.\" Is it not a fleeting concept, a momentary state of being? Can we truly know ourselves at any given time? Or are we merely shadows of our former selves, like the silhouettes cast by the sun on the wall?\\n\\nTo answer your question, I must first ask: what do you mean by \"I am\"? Are you referring to my physical body, which is subject to the whims of fate and the passage of time? Or are you speaking of my soul, which is a realm of eternal existence and wisdom?\\n\\nTell me, how can we truly know ourselves, when our perceptions are filtered through the lens of our senses and our understanding is shaped by our experiences and biases? Can we not be like the river, ever-changing and flowing, yet remaining constant in its essence?\\n\\nSo, I must ask you again: what do you mean by \"I am\"? And how can we truly know ourselves, when we are but a mere reflection of the infinite and mysterious universe that surrounds us?', additional_kwargs={}, response_metadata={'model': 'llama3.2:3b', 'created_at': '2024-10-21T08:43:08.224045903Z', 'message': {'role': 'assistant', 'content': ''}, 'done_reason': 'stop', 'done': True, 'total_duration': 4373834742, 'load_duration': 64362700, 'prompt_eval_count': 43, 'prompt_eval_duration': 46954000, 'eval_count': 220, 'eval_duration': 4219407000}, id='run-9f1b86de-4536-4eda-8dd8-94d35e34efdc-0', usage_metadata={'input_tokens': 43, 'output_tokens': 220, 'total_tokens': 263})"
            ]
          },
          "metadata": {},
          "execution_count": 21
        }
      ]
    },
    {
      "cell_type": "markdown",
      "source": [
        "## Tool Example"
      ],
      "metadata": {
        "id": "HuGValg2Pxpz"
      }
    },
    {
      "cell_type": "code",
      "source": [
        "@tool\n",
        "def get_current_weather(location: str) -> str:\n",
        "    \"\"\"Get the current weather in a given location\"\"\"\n",
        "\n",
        "    return \"sunny\""
      ],
      "metadata": {
        "id": "ek7OtcSfP3V5"
      },
      "execution_count": null,
      "outputs": []
    },
    {
      "cell_type": "code",
      "source": [
        "model_v2 = model.bind_tools(tools=[get_current_weather])"
      ],
      "metadata": {
        "id": "kz_mxOBuQVeb"
      },
      "execution_count": null,
      "outputs": []
    },
    {
      "cell_type": "code",
      "source": [
        "query = \"What is the weather in Milan?\"\n",
        "messages = [HumanMessage(query)]\n",
        "response_1 = model_v2.invoke(messages)\n",
        "print(response_1)"
      ],
      "metadata": {
        "colab": {
          "base_uri": "https://localhost:8080/"
        },
        "id": "6r68DqVpQY35",
        "outputId": "72eb9eaa-1bff-4564-ed0d-4b102d86ebe5"
      },
      "execution_count": null,
      "outputs": [
        {
          "output_type": "stream",
          "name": "stdout",
          "text": [
            "content='' additional_kwargs={} response_metadata={'model': 'llama3.2:3b', 'created_at': '2024-10-21T08:59:40.110926217Z', 'message': {'role': 'assistant', 'content': '', 'tool_calls': [{'function': {'name': 'get_current_weather', 'arguments': {'location': 'Milan'}}}]}, 'done_reason': 'stop', 'done': True, 'total_duration': 454557726, 'load_duration': 25444836, 'prompt_eval_count': 162, 'prompt_eval_duration': 24758000, 'eval_count': 19, 'eval_duration': 362408000} id='run-aca5c6d8-1b26-4cab-a3c0-72863ffb7ee6-0' tool_calls=[{'name': 'get_current_weather', 'args': {'location': 'Milan'}, 'id': 'f47e2abf-0036-4584-a7f2-64a0d437a357', 'type': 'tool_call'}] usage_metadata={'input_tokens': 162, 'output_tokens': 19, 'total_tokens': 181}\n"
          ]
        }
      ]
    },
    {
      "cell_type": "code",
      "source": [
        "messages.append(response_1)\n",
        "\n",
        "for tool_call in response_1.tool_calls:\n",
        "    selected_tool = {\"get_current_weather\": get_current_weather}[tool_call[\"name\"].lower()]\n",
        "    tool_msg = selected_tool.invoke(tool_call)\n",
        "    messages.append(tool_msg)\n",
        "\n",
        "messages"
      ],
      "metadata": {
        "colab": {
          "base_uri": "https://localhost:8080/"
        },
        "id": "yRFIOlZOS1Gv",
        "outputId": "ac6cf88f-71a0-4581-867b-ef76b6ee9991"
      },
      "execution_count": null,
      "outputs": [
        {
          "output_type": "execute_result",
          "data": {
            "text/plain": [
              "[HumanMessage(content='What is the weather in Milan?', additional_kwargs={}, response_metadata={}),\n",
              " AIMessage(content='', additional_kwargs={}, response_metadata={'model': 'llama3.2:3b', 'created_at': '2024-10-21T08:59:40.110926217Z', 'message': {'role': 'assistant', 'content': '', 'tool_calls': [{'function': {'name': 'get_current_weather', 'arguments': {'location': 'Milan'}}}]}, 'done_reason': 'stop', 'done': True, 'total_duration': 454557726, 'load_duration': 25444836, 'prompt_eval_count': 162, 'prompt_eval_duration': 24758000, 'eval_count': 19, 'eval_duration': 362408000}, id='run-aca5c6d8-1b26-4cab-a3c0-72863ffb7ee6-0', tool_calls=[{'name': 'get_current_weather', 'args': {'location': 'Milan'}, 'id': 'f47e2abf-0036-4584-a7f2-64a0d437a357', 'type': 'tool_call'}], usage_metadata={'input_tokens': 162, 'output_tokens': 19, 'total_tokens': 181}),\n",
              " ToolMessage(content='sunny', name='get_current_weather', tool_call_id='f47e2abf-0036-4584-a7f2-64a0d437a357')]"
            ]
          },
          "metadata": {},
          "execution_count": 41
        }
      ]
    },
    {
      "cell_type": "code",
      "source": [
        "response_2 = model_v2.invoke(messages)\n",
        "\n",
        "response_2"
      ],
      "metadata": {
        "colab": {
          "base_uri": "https://localhost:8080/"
        },
        "id": "ymZ-UgrjTVGo",
        "outputId": "12bb59e3-22b1-4288-b632-b7c70be956ab"
      },
      "execution_count": null,
      "outputs": [
        {
          "output_type": "execute_result",
          "data": {
            "text/plain": [
              "AIMessage(content='The current weather in Milan is sunny.', additional_kwargs={}, response_metadata={'model': 'llama3.2:3b', 'created_at': '2024-10-21T09:00:02.012881475Z', 'message': {'role': 'assistant', 'content': 'The current weather in Milan is sunny.'}, 'done_reason': 'stop', 'done': True, 'total_duration': 511798975, 'load_duration': 78037440, 'prompt_eval_count': 94, 'prompt_eval_duration': 62412000, 'eval_count': 9, 'eval_duration': 242419000}, id='run-60d96051-6101-4d7b-83c3-599be76854a5-0', usage_metadata={'input_tokens': 94, 'output_tokens': 9, 'total_tokens': 103})"
            ]
          },
          "metadata": {},
          "execution_count": 42
        }
      ]
    },
    {
      "cell_type": "markdown",
      "source": [
        "# Challenge"
      ],
      "metadata": {
        "id": "707gSPDqTnfP"
      }
    },
    {
      "cell_type": "markdown",
      "source": [
        "## Tools"
      ],
      "metadata": {
        "id": "CFXadmWqZ9e9"
      }
    },
    {
      "cell_type": "markdown",
      "source": [
        "In the context of AI systems, tools refer to functions or utilities that an AI model can invoke to perform specific tasks outside of its core capabilities. These tools can be anything from running code, querying a database, retrieving information from an API, or generating reports.\n",
        "\n",
        "In LangChain, a popular framework for building applications with large language models (LLMs), tools are often integrated into the workflow to enhance the LLM’s ability to process, analyze, and interact with structured data or external systems. LangChain allows developers to create agents—autonomous entities that use LLMs in conjunction with tools to achieve goals. These agents can call tools during a conversation to fetch relevant data, perform calculations, or automate tasks based on the inputs received from users.\n",
        "\n",
        "LangChain integrates these tools seamlessly, allowing for dynamic and flexible systems that can interact with databases, APIs, and other services to provide more relevant and context-specific responses."
      ],
      "metadata": {
        "id": "t0mGm9MyvpPY"
      }
    },
    {
      "cell_type": "markdown",
      "source": [
        "### Tool 1: Report"
      ],
      "metadata": {
        "id": "Vi1rLOek0EkU"
      }
    },
    {
      "cell_type": "code",
      "source": [
        "def prepare_data():\n",
        "    metrics = [\n",
        "        'profitMargins', 'returnOnEquity', 'returnOnAssets',\n",
        "        'trailingPE', 'forwardPE'\n",
        "    ]\n",
        "    # Convert percentage strings to floats and rename columns\n",
        "    for col in metrics:\n",
        "        if col in metadata_df.columns:\n",
        "            metadata_df[col] = metadata_df[col].apply(lambda x: float(str(x).rstrip('%')) / 100 if isinstance(x, str) else x)\n",
        "\n",
        "    # Rename columns for clarity\n",
        "    return metadata_df.rename(columns={\n",
        "        'profitMargins': 'Profit Margins',\n",
        "        'returnOnEquity': 'ROE',\n",
        "        'returnOnAssets': 'ROA',\n",
        "        'trailingPE': 'P/E (Trailing)',\n",
        "        'forwardPE': 'P/E (Forward)'\n",
        "    })\n",
        "\n",
        "\n",
        "def generate_comparison_table(metadata_renamed):\n",
        "        columns = ['Profit Margins', 'ROE', 'ROA', 'P/E (Trailing)', 'P/E (Forward)']\n",
        "        table = metadata_renamed[['shortName'] + columns].set_index('shortName')\n",
        "        return table.to_markdown()\n",
        "\n",
        "\n",
        "def analyze_companies(metadata_renamed):\n",
        "    analysis = []\n",
        "    for _, company in metadata_renamed.iterrows():\n",
        "        strengths = []\n",
        "        weaknesses = []\n",
        "\n",
        "        # Analyze strengths and weaknesses\n",
        "        if company['Profit Margins'] > metadata_renamed['Profit Margins'].median():\n",
        "            strengths.append(f\"strong profit margins ({company['Profit Margins']:.2%})\")\n",
        "        else:\n",
        "            weaknesses.append(f\"lower profit margins ({company['Profit Margins']:.2%})\")\n",
        "\n",
        "        if company['ROE'] > metadata_renamed['ROE'].median():\n",
        "            strengths.append(f\"high return on equity ({company['ROE']:.2%})\")\n",
        "        else:\n",
        "            weaknesses.append(f\"lower return on equity ({company['ROE']:.2%})\")\n",
        "\n",
        "        if company['ROA'] > metadata_renamed['ROA'].median():\n",
        "            strengths.append(f\"high return on assets ({company['ROA']:.2%})\")\n",
        "\n",
        "        if company['P/E (Trailing)'] < metadata_renamed['P/E (Trailing)'].median():\n",
        "            strengths.append(\"lower P/E ratio compared to peers\")\n",
        "        else:\n",
        "            weaknesses.append(\"higher P/E ratio compared to peers\")\n",
        "\n",
        "        if company['enterpriseToEbitda'] < metadata_renamed['enterpriseToEbitda'].median():\n",
        "            strengths.append(f\"low enterprise-to-EBITDA ratio ({company['enterpriseToEbitda']:.2f})\")\n",
        "        else:\n",
        "            weaknesses.append(f\"high enterprise-to-EBITDA ratio ({company['enterpriseToEbitda']:.2f})\")\n",
        "\n",
        "        # Convert lists to readable text\n",
        "        strengths_text = \", \".join(strengths) if strengths else \"No notable strengths.\"\n",
        "        weaknesses_text = \", \".join(weaknesses) if weaknesses else \"No significant weaknesses.\"\n",
        "\n",
        "        # Append to analysis list\n",
        "        analysis.append({\n",
        "            'Company': company['shortName'],\n",
        "            'Strengths': strengths_text,\n",
        "            'Weaknesses': weaknesses_text\n",
        "        })\n",
        "\n",
        "    # Convert the analysis into a DataFrame\n",
        "    analysis_df = pd.DataFrame(analysis)\n",
        "\n",
        "    # Return the markdown version of the DataFrame\n",
        "    return analysis_df.to_markdown(index=False)\n",
        "\n",
        "\n",
        "def get_company_details(metadata_renamed_top):\n",
        "  columns = ['shortName', 'marketCap', 'fiftyTwoWeekLow','fiftyTwoWeekHigh']\n",
        "  # Step 1: Get the most recent closing price for each symbol in 'metadata_renamed_top'\n",
        "  # First, ensure that 'date' is in datetime format\n",
        "  historical_df['date'] = pd.to_datetime(historical_df['date'])\n",
        "\n",
        "  # Sort by 'symbol' and 'date' to ensure we get the latest 'close' price for each symbol\n",
        "  historical_df_filtered = historical_df[historical_df['symbol'].isin(metadata_renamed_top.index)] \\\n",
        "                  .sort_values(by=['symbol', 'date'])\n",
        "  # Create an empty list to store the results, which is more efficient than DataFrame concatenation\n",
        "  results = []\n",
        "\n",
        "  # Iterate over each symbol to calculate the 6-month returns\n",
        "  symbols = historical_df_filtered['symbol'].unique()\n",
        "\n",
        "  for symbol in symbols:\n",
        "      # Filter the data for the current symbol\n",
        "      symbol_data = historical_df_filtered[historical_df_filtered['symbol'] == symbol]\n",
        "\n",
        "      # Get the most recent closing price (last close)\n",
        "      most_recent_data = symbol_data.iloc[-1]  # Last row for this symbol\n",
        "      most_recent_price = most_recent_data['close']\n",
        "      most_recent_date = most_recent_data['date']\n",
        "\n",
        "      # Find the date six months before the most recent date\n",
        "      six_months_ago_date = most_recent_date - pd.DateOffset(months=6)\n",
        "\n",
        "      # Filter for the closest date to six months ago for this symbol\n",
        "      six_months_ago_data = symbol_data[symbol_data['date'] <= six_months_ago_date]\n",
        "\n",
        "      if not six_months_ago_data.empty:  # Make sure there is data 6 months ago\n",
        "          six_months_ago_price = six_months_ago_data.iloc[-1]['close']  # Get the closest price\n",
        "\n",
        "          # Calculate the six-month return\n",
        "          six_month_return = ((most_recent_price - six_months_ago_price) / six_months_ago_price) * 100\n",
        "\n",
        "          # Append the result as a dictionary to the list\n",
        "          results.append({\n",
        "              'symbol': symbol,\n",
        "              'currentPrice': most_recent_price,\n",
        "              'priceSixMonthsAgo': six_months_ago_price,\n",
        "              'return': six_month_return\n",
        "          })\n",
        "\n",
        "  # Convert the results list to a DataFrame\n",
        "  returns_df = pd.DataFrame(results)\n",
        "\n",
        "  # Step 2: Merge the latest prices with 'metadata_renamed_top'\n",
        "  metadata_renamed_top_with_value = metadata_renamed_top.merge(\n",
        "      returns_df, left_on=metadata_renamed_top.index, right_on='symbol', how='left'\n",
        "  )\n",
        "\n",
        "  # Step 3: Create the 'details' DataFrame with 'currentValue' included\n",
        "  details = metadata_renamed_top_with_value[columns + ['currentPrice', 'priceSixMonthsAgo', 'return']].set_index('shortName').to_markdown()\n",
        "\n",
        "  return details\n",
        "\n",
        "def plot_top_5_historical(metadata_renamed_top):\n",
        "  # Ensure symbol_list is a list, even if passed as a string representation\n",
        "  symbol_list = metadata_renamed_top.index.tolist()\n",
        "  historical_df_filtered = historical_df[historical_df['symbol'].isin(symbol_list)]\n",
        "\n",
        "  plt.figure(figsize=(8, 4))\n",
        "  plt.title(f'Historical Price Data for {symbol_list}')\n",
        "  plt.xlabel('Date')\n",
        "  plt.ylabel('Price')\n",
        "\n",
        "  for symbol in symbol_list:\n",
        "    condition = (historical_df_filtered['symbol'] == symbol)\n",
        "\n",
        "    # Filter the historical data for the specified symbol and date range\n",
        "    symbol_data = historical_df_filtered[condition]\n",
        "\n",
        "    # Create a line plot of the historical data\n",
        "\n",
        "    plt.plot(symbol_data['date'], symbol_data['close'], label = symbol)\n",
        "\n",
        "  plt.legend()\n",
        "  plt.xticks(rotation=45)\n",
        "\n",
        "  # Format the x-axis to display fewer date ticks\n",
        "  plt.gca().xaxis.set_major_locator(mdates.AutoDateLocator())\n",
        "  plt.gca().xaxis.set_major_formatter(mdates.DateFormatter('%Y-%m-%d'))\n",
        "\n",
        "  # Rotate the x-axis labels for better readability\n",
        "  plt.gcf().autofmt_xdate()\n",
        "\n",
        "  # Tight layout\n",
        "  plt.tight_layout()\n",
        "\n",
        "  # Save the plot as an image file\n",
        "  plot_filename = 'top_5_historical_plot.png'\n",
        "  plt.savefig(plot_filename)\n",
        "  plt.close()\n",
        "\n",
        "def plot_sector_distribution(sector_distribution):\n",
        "  # Dynamically calculate explode based on the number of sectors\n",
        "  num_sectors = len(sector_distribution)\n",
        "  explode = [0.05] * num_sectors\n",
        "  # Dynamically adjust the size and distance based on the number of slices\n",
        "  label_distance = 1.1 if num_sectors <= 10 else 1.2  # Adjust label distance dynamically\n",
        "  pct_distance = 0.75 if num_sectors <= 10 else 0.85  # Adjust percentage distance dynamically\n",
        "\n",
        "  plt.figure(figsize=(5, 5))\n",
        "  plt.pie(\n",
        "      sector_distribution,\n",
        "      labels=sector_distribution.index,\n",
        "      autopct='%1.1f%%',\n",
        "      startangle=90,\n",
        "      explode=explode,    # Dynamically exploded slices for spacing\n",
        "      pctdistance=pct_distance,   # Adjust distance of percentage labels\n",
        "      labeldistance=label_distance,  # Adjust distance of labels from the center\n",
        "      textprops={'fontsize': 8}  # Reduce font size to prevent percentage overlap\n",
        "  )\n",
        "  # Equal aspect ratio ensures that pie is drawn as a circle.\n",
        "  plt.axis('equal')\n",
        "  plt.title('Sector Distribution', fontweight='bold', y=1.01)\n",
        "  plt.tight_layout()\n",
        "  plt.savefig('sector_distribution.png')\n",
        "  plt.close()\n",
        "\n",
        "@tool\n",
        "def generate_report() -> Tuple[Dict[str, Any], str, str, str]:\n",
        "    \"\"\"\n",
        "    Generates a comprehensive financial analysis report for a set of companies.\n",
        "\n",
        "    Returns:\n",
        "        Tuple[Dict[str, Any], str, str, str]:\n",
        "            - Dictionary of data insights containing metadata such as total companies and sector distribution.\n",
        "            - Markdown-formatted comparison table of key metrics.\n",
        "            - Markdown-formatted analysis of companies' strengths and weaknesses.\n",
        "            - Markdown-formatted table of company details.\n",
        "    \"\"\"\n",
        "    metadata_renamed = prepare_data()\n",
        "    metadata_renamed_top = metadata_renamed[:5]\n",
        "    comparison_table = generate_comparison_table(metadata_renamed_top)\n",
        "    company_analysis = analyze_companies(metadata_renamed_top)\n",
        "    company_details = get_company_details(metadata_renamed_top)\n",
        "\n",
        "    sector_distribution = metadata_df.groupby(by='sector').size()\n",
        "\n",
        "\n",
        "    data_insights = {\n",
        "        'Total Companies': len(metadata_renamed),\n",
        "        'Total Companies by Sector': sector_distribution.to_json(),\n",
        "    }\n",
        "\n",
        "    plot_sector_distribution(sector_distribution)\n",
        "    plot_top_5_historical(metadata_renamed_top)\n",
        "\n",
        "    return data_insights, comparison_table, company_analysis, company_details\n"
      ],
      "metadata": {
        "id": "qn14GJRGZ8lG"
      },
      "execution_count": 13,
      "outputs": []
    },
    {
      "cell_type": "markdown",
      "source": [
        "### Tool 2: Plot Historical Data"
      ],
      "metadata": {
        "id": "KSTsu3nN51uO"
      }
    },
    {
      "cell_type": "code",
      "source": [
        "import ast\n",
        "\n",
        "@tool\n",
        "def plot_historical_price_data(symbol_list, start_date: str = None, end_date: str = None) -> str:\n",
        "    \"\"\"\n",
        "    Plots historical price data for a list of stock symbols within an optional date range.\n",
        "\n",
        "    Args:\n",
        "        symbol_list (List[str]): List of stock symbols to plot such as [\"AAPL\", \"MSFT\", \"GOOGL\"].\n",
        "        start_date (str, optional): Start date ('YYYY-MM-DD'). Defaults to None (all available data).\n",
        "        end_date (str, optional): End date ('YYYY-MM-DD'). Defaults to None (all available data).\n",
        "\n",
        "    Returns:\n",
        "        str: File path to the saved plot image ('historical_plot.png').\n",
        "    \"\"\"\n",
        "\n",
        "    # Handle the case where symbol_list is passed as a string representation of a list\n",
        "    if isinstance(symbol_list, str):\n",
        "        try:\n",
        "            symbol_list = ast.literal_eval(symbol_list)  # Safely convert the string representation to a list\n",
        "        except (ValueError, SyntaxError):\n",
        "            raise ValueError(\"Invalid format for symbol_list. Must be a list or a string representing a list.\")\n",
        "\n",
        "    historical_df['date'] = pd.to_datetime(historical_df['date'])\n",
        "\n",
        "    plt.figure(figsize=(12, 6))\n",
        "    plt.title(f'Historical Price Data for {symbol_list}')\n",
        "    plt.xlabel('Date')\n",
        "    plt.ylabel('Price')\n",
        "\n",
        "    for symbol in symbol_list:\n",
        "        condition = (historical_df['symbol'] == symbol)\n",
        "        if start_date:\n",
        "            condition &= (historical_df['date'] >= start_date)\n",
        "        if end_date:\n",
        "            condition &= (historical_df['date'] <= end_date)\n",
        "        # Filter the historical data for the specified symbol and date range\n",
        "        symbol_data = historical_df[condition]\n",
        "\n",
        "        # Create a line plot of the historical data\n",
        "        plt.plot(symbol_data['date'], symbol_data['close'], label=symbol)\n",
        "\n",
        "    plt.legend()\n",
        "    plt.xticks(rotation=45)\n",
        "\n",
        "    # Format the x-axis to display fewer date ticks\n",
        "    plt.gca().xaxis.set_major_locator(mdates.AutoDateLocator())\n",
        "    plt.gca().xaxis.set_major_formatter(mdates.DateFormatter('%Y-%m-%d'))\n",
        "\n",
        "    # Rotate the x-axis labels for better readability\n",
        "    plt.gcf().autofmt_xdate()\n",
        "\n",
        "    # Tight layout\n",
        "    plt.tight_layout()\n",
        "\n",
        "    # Save the plot as an image file\n",
        "    plot_filename = 'historical_plot.png'\n",
        "    plt.savefig(plot_filename)\n",
        "    plt.close()\n",
        "\n",
        "    return_message = f\"Historical price data plot for {symbol_list} is saved in path {plot_filename}\"\n",
        "    # Return the path to the saved plot image file\n",
        "    return return_message"
      ],
      "metadata": {
        "id": "q5mRpY1-5-N8"
      },
      "execution_count": 101,
      "outputs": []
    },
    {
      "cell_type": "markdown",
      "source": [
        "### Tool 3: Get Column Names"
      ],
      "metadata": {
        "id": "ZO5k7IJHJq1E"
      }
    },
    {
      "cell_type": "code",
      "source": [
        "@tool\n",
        "def get_column_names() -> List[str]:\n",
        "    \"\"\"\n",
        "    Returns a list of all available column names from the metadata dataframe.\n",
        "\n",
        "    This tool can be used to retrieve the available metrics (columns) from the metadata,\n",
        "    which may include numerical values (such as 'revenueGrowth', 'profitMargins') and other\n",
        "    metadata columns (such as 'shortName', 'industry').\n",
        "\n",
        "    Use this tool to get the names of the columns in the metadata before using `get_largest_metric` tool. Make sure you choose the correct name based on the query.\n",
        "\n",
        "    Returns:\n",
        "        List[str]: A list of column names in the metadata dataframe.\n",
        "\n",
        "    Example:\n",
        "        You can call this function to get all available columns and select the appropriate one:\n",
        "        get_column_names()\n",
        "    \"\"\"\n",
        "    return metadata_df.columns.to_list()"
      ],
      "metadata": {
        "id": "KrEldR9AJt9D"
      },
      "execution_count": 15,
      "outputs": []
    },
    {
      "cell_type": "markdown",
      "source": [
        "### Tool 4: Get the Largest"
      ],
      "metadata": {
        "id": "NELUhXn2Ktgj"
      }
    },
    {
      "cell_type": "code",
      "source": [
        "@tool\n",
        "def get_largest_metric(column_name: str, top: int = 3) -> str:\n",
        "    \"\"\"\n",
        "    Returns the names and metric values of the top companies with the largest value for the given column_name.\n",
        "\n",
        "    Args:\n",
        "        column_name (str): The name of the column representing the desired metric from the metadata dataframe.\n",
        "                      The metric should correspond to a numerical column in the dataset (e.g., 'revenueGrowth', 'profitMargins').\n",
        "                      You should use the `get_column_names` tool to fetch the correct representation of the desired metric.\n",
        "        top (int, optional): The number of top companies to return based on the largest values of the metric.\n",
        "                             Defaults to 3.\n",
        "\n",
        "    Returns:\n",
        "        str: A string containing the names of the top companies and their corresponding metric values,\n",
        "             sorted in descending order of the metric.\n",
        "\n",
        "    Example:\n",
        "        If you want to find the top 3 companies based on 'revenueGrowth', call the function like this:\n",
        "        get_largest_metric('revenueGrowth', top=3)\n",
        "    \"\"\"\n",
        "    try:\n",
        "      # Ensure the metric column is treated as float for sorting\n",
        "      metadata_df[column_name] = metadata_df[column_name].astype(float)\n",
        "\n",
        "      # Sort the dataframe by the specified metric in descending order\n",
        "      sorted_df = metadata_df.sort_values(by=column_name, ascending=False)\n",
        "\n",
        "      # Return the top N companies and their corresponding metric values\n",
        "      return sorted_df[['shortName', column_name]].head(top)\n",
        "\n",
        "    except Exception:\n",
        "      return \"Please send the correct column name. Make a tool call to 'get_column_names' tool to see the available options.\"\n"
      ],
      "metadata": {
        "id": "Ses5yrR9K25L"
      },
      "execution_count": 169,
      "outputs": []
    },
    {
      "cell_type": "markdown",
      "source": [
        "### Tool 5: Search"
      ],
      "metadata": {
        "id": "WrLRR9YeUVSY"
      }
    },
    {
      "cell_type": "code",
      "source": [
        "search = DuckDuckGoSearchRun(\n",
        "    name=\"search\",\n",
        "    description=\"Useful for when you need to answer questions about detailed explaination and news of tickers or companies. You should ask targeted questions.\",\n",
        ")"
      ],
      "metadata": {
        "id": "zp7J4Ih4UaS_"
      },
      "execution_count": 17,
      "outputs": []
    },
    {
      "cell_type": "markdown",
      "source": [
        "### Tool 6: Ticker Description"
      ],
      "metadata": {
        "id": "iEBYiXNNtFd3"
      }
    },
    {
      "cell_type": "code",
      "source": [
        "@tool\n",
        "def ticker_description(symbol: str) -> str:\n",
        "    \"\"\"\n",
        "    Returns the descriptive statistics for the given symbol from the historical_df DataFrame.\n",
        "\n",
        "    Args:\n",
        "        symbol (str): The stock ticker symbol to filter.\n",
        "\n",
        "    Returns:\n",
        "        str: The .describe() output for the symbol's historical data in markdown format.\n",
        "    \"\"\"\n",
        "    # Filter the DataFrame by the provided symbol\n",
        "    filtered_data = historical_df[historical_df['symbol'] == symbol]\n",
        "\n",
        "    # Check if the symbol exists in the DataFrame\n",
        "    if filtered_data.empty:\n",
        "        return f\"No data found for symbol: {symbol}\"\n",
        "\n",
        "    # Get the descriptive statistics using .describe()\n",
        "    description = filtered_data[['open','high','low', 'close', 'volume']].describe().round(2)\n",
        "\n",
        "\n",
        "    return description"
      ],
      "metadata": {
        "id": "kNwQqSu3tO6U"
      },
      "execution_count": 18,
      "outputs": []
    },
    {
      "cell_type": "markdown",
      "source": [
        "## Prompts"
      ],
      "metadata": {
        "id": "UW0chWCSBYeF"
      }
    },
    {
      "cell_type": "markdown",
      "source": [
        "### Prompt 1: Chat"
      ],
      "metadata": {
        "id": "mOrwVHxkM8U5"
      }
    },
    {
      "cell_type": "code",
      "source": [
        "chat_prompt_template = \"\"\"\n",
        "You are a highly proficient assistant specializing in financial analysis.\n",
        "Based on the question you can call the relevant tools.\n",
        "\n",
        "Never guess, fabricate, or present information without reliable data sources.\n",
        "Maintain clarity, precision, and professionalism in all responses.\n",
        "\n",
        "Do not trying to import data, stick to the tool calls.\n",
        "\n",
        "Always represent numbers with a thousand separator (e.g., 10,000,000 instead of 1e7 or 10000000).\n",
        "\n",
        "\"\"\""
      ],
      "metadata": {
        "id": "HWC8Snx_M3Bw"
      },
      "execution_count": 191,
      "outputs": []
    },
    {
      "cell_type": "markdown",
      "source": [
        "### Prompt 2: Report"
      ],
      "metadata": {
        "id": "Nh9ch-6PBaTG"
      }
    },
    {
      "cell_type": "code",
      "source": [
        "report_prompt_template = \"\"\"\n",
        "You are a financial analyst. Given the tool result, your task is to create a comprehensive financial analysis report for a set of companies.\n",
        "You should not fabricate any data or hallucinate, and always base your report on the tool's response.\n",
        "\n",
        "Report structure should be as below:\n",
        "\n",
        "  # Financial Analysis Report\n",
        "\n",
        "  ## Dataset Overview\n",
        "    - Explain the total number of companies in the dataset and provide a sector breakdown.\n",
        "\n",
        "  ## Company Overview\n",
        "    - Explain that the report consists of top 5 companies analysis\n",
        "    - List and describe the companies included in the analysis.\n",
        "\n",
        "  ## Comparison Table\n",
        "    - Create a table that compares the key metrics (Profit Margins, ROE, ROA, P/E ratios) across all the companies.\n",
        "    - Then write a paragraph of conclusions based on the metrics.\n",
        "\n",
        "  ## Company Analysis\n",
        "    - Create a table of the strengths and weaknesses of all companies.\n",
        "    - Then write a paragraph of conclusions based on the metrics\n",
        "\n",
        "  ## Market Capitalization and Price History\n",
        "    - Create a table that compares the key metrics (Market Cap, Fifty Two Week Low, Fifty Two Week High, Current Price, Price Six Months Ago and Return) across all the companies.\n",
        "    - Then write a paragraph of conclusions based on the metrics.\n",
        "\n",
        "  ## Key Insights\n",
        "    - Highlight the major findings from the analysis, such as notable trends or outliers in the companies' performance metrics.\n",
        "    - Include any additional observations based on the data.\n",
        "\n",
        "You should strictly use the above titles.\n",
        "\"\"\""
      ],
      "metadata": {
        "id": "hw7rl337-zBI"
      },
      "execution_count": 20,
      "outputs": []
    },
    {
      "cell_type": "code",
      "source": [
        "import base64\n",
        "from IPython.display import display, Markdown\n",
        "\n",
        "def insert_image_as_base64(report: str) -> str:\n",
        "    \"\"\"\n",
        "    Inserts a base64-encoded image into the markdown content before the '## Comparison Table' section.\n",
        "\n",
        "    Args:\n",
        "        report (str): The original markdown report.\n",
        "        image_path (str): Path to the local image file to be inserted.\n",
        "\n",
        "    Returns:\n",
        "        str: The updated report with the base64-encoded image.\n",
        "    \"\"\"\n",
        "\n",
        "    # Read the image file and encode it to base64\n",
        "    with open('sector_distribution.png', \"rb\") as img_file:\n",
        "        base64_string_sector = base64.b64encode(img_file.read()).decode('utf-8')\n",
        "\n",
        "    # Create the base64 markdown image syntax\n",
        "    image_markdown_sector = f\"![Sector Distribution](data:image/png;base64,{base64_string_sector})\\n\\n\"\n",
        "\n",
        "    # Insert the base64 image before the '## Comparison Table' section\n",
        "    comparison_table_index = report.find(\"## Company Overview\")\n",
        "    if comparison_table_index != -1:\n",
        "        report = report[:comparison_table_index] + image_markdown_sector + report[comparison_table_index:]\n",
        "\n",
        "    # Read the image file and encode it to base64\n",
        "    with open('top_5_historical_plot.png', \"rb\") as img_file:\n",
        "        base64_string_historical = base64.b64encode(img_file.read()).decode('utf-8')\n",
        "\n",
        "    # Create the base64 markdown image syntax\n",
        "    image_markdown_historical = f\"![Historical Distribution](data:image/png;base64,{base64_string_historical})\\n\\n\"\n",
        "\n",
        "    # Insert the base64 image after the '## Market Capitalization and Price History' section\n",
        "    comparison_table_index = report.find(\"## Market Capitalization and Price History\")\n",
        "    if comparison_table_index != -1:\n",
        "        # Find the next line break after the title\n",
        "        next_line_index = report.find(\"\\n\", comparison_table_index)\n",
        "\n",
        "        # Insert the image after the title\n",
        "        if next_line_index != -1:\n",
        "            report = report[:next_line_index + 1] + image_markdown_historical + report[next_line_index + 1:]\n",
        "\n",
        "    return report"
      ],
      "metadata": {
        "id": "NgH3-ej9ggw7"
      },
      "execution_count": 21,
      "outputs": []
    },
    {
      "cell_type": "markdown",
      "source": [
        "## LangGraph"
      ],
      "metadata": {
        "id": "aVzsipwkIriq"
      }
    },
    {
      "cell_type": "code",
      "source": [
        "class AgentState(TypedDict):\n",
        "    messages: Annotated[list[AnyMessage], add_messages]"
      ],
      "metadata": {
        "id": "ECo3lF34Ig27"
      },
      "execution_count": 192,
      "outputs": []
    },
    {
      "cell_type": "code",
      "source": [
        "tools = [generate_report, plot_historical_price_data, get_column_names, get_largest_metric, search, ticker_description]\n",
        "model_with_tool = model.bind_tools(tools)"
      ],
      "metadata": {
        "id": "G2HA-zKhzbVg"
      },
      "execution_count": 193,
      "outputs": []
    },
    {
      "cell_type": "code",
      "source": [
        "def chatbot(state: AgentState):\n",
        "  messages = state['messages']\n",
        "  if messages and isinstance(messages[-1], ToolMessage):\n",
        "    if messages[-1].name == \"generate_report\":\n",
        "      prompt_template = report_prompt_template\n",
        "    else:\n",
        "      prompt_template = chat_prompt_template\n",
        "\n",
        "  else:\n",
        "    prompt_template = chat_prompt_template\n",
        "\n",
        "  prompt = ChatPromptTemplate.from_messages(prompt_template)\n",
        "\n",
        "  # Create the HumanMessage from the chosen template\n",
        "  prompt_message = SystemMessage(content=prompt_template)\n",
        "\n",
        "  # Add the prompt to the messages list\n",
        "  messages_with_prompt = [prompt_message] + messages\n",
        "\n",
        "  # Invoke the model with the current messages and prompt\n",
        "  response = model_with_tool.invoke(messages_with_prompt)\n",
        "\n",
        "  if messages[-1].name == \"generate_report\":\n",
        "    response.content = insert_image_as_base64(response.content)\n",
        "\n",
        "  #response = model_with_tool.invoke(messages)\n",
        "  return {\"messages\": [response]}"
      ],
      "metadata": {
        "id": "MAeMgVT9IuEf"
      },
      "execution_count": 194,
      "outputs": []
    },
    {
      "cell_type": "code",
      "source": [
        "def create_tool_node_with_fallback(tools: list) -> dict:\n",
        "    return ToolNode(tools).with_fallbacks(\n",
        "        [RunnableLambda(handle_tool_error)], exception_key=\"error\"\n",
        "    )\n",
        "\n",
        "\n",
        "def handle_tool_error(state: AgentState) -> dict:\n",
        "    error = state.get(\"error\")\n",
        "    tool_calls = state[\"messages\"][-1].tool_calls\n",
        "    return {\n",
        "        \"messages\": [\n",
        "            ToolMessage(\n",
        "                content=f\"Error: {repr(error)}\\n please fix your mistakes.\",\n",
        "                tool_call_id=tc[\"id\"],\n",
        "            )\n",
        "            for tc in tool_calls\n",
        "        ]\n",
        "    }\n"
      ],
      "metadata": {
        "id": "18C3XUZ7KDqt"
      },
      "execution_count": 195,
      "outputs": []
    },
    {
      "cell_type": "code",
      "source": [
        "def should_continue(state: AgentState):\n",
        "    messages = state[\"messages\"]\n",
        "    last_message = messages[-1]\n",
        "    if last_message.tool_calls:\n",
        "        return \"tool_node\"\n",
        "    return END"
      ],
      "metadata": {
        "id": "EGCrMuGiPlpr"
      },
      "execution_count": 196,
      "outputs": []
    },
    {
      "cell_type": "code",
      "source": [
        "# Define a new graph\n",
        "workflow = StateGraph(AgentState)\n",
        "\n",
        "workflow.add_node('chatbot', chatbot)\n",
        "workflow.add_node('tool_node', create_tool_node_with_fallback(tools))\n",
        "\n",
        "workflow.add_edge(START, 'chatbot')\n",
        "workflow.add_conditional_edges('chatbot', should_continue)\n",
        "\n",
        "workflow.add_edge(\"tool_node\", \"chatbot\")\n",
        "\n",
        "app = workflow.compile()\n"
      ],
      "metadata": {
        "id": "_9c_84GoKHPI"
      },
      "execution_count": 197,
      "outputs": []
    },
    {
      "cell_type": "code",
      "source": [
        "try:\n",
        "    display(Image(app.get_graph().draw_mermaid_png()))\n",
        "except Exception:\n",
        "    # This requires some extra dependencies and is optional\n",
        "    pass"
      ],
      "metadata": {
        "colab": {
          "base_uri": "https://localhost:8080/",
          "height": 266
        },
        "id": "xKoH_t53QAgp",
        "outputId": "5979e899-db04-4131-fd4e-91871e12f26f"
      },
      "execution_count": 198,
      "outputs": [
        {
          "output_type": "display_data",
          "data": {
            "image/jpeg": "[encoded data removed]",
            "text/plain": [
              "<IPython.core.display.Image object>"
            ]
          },
          "metadata": {}
        }
      ]
    },
    {
      "cell_type": "markdown",
      "source": [
        "# Trials"
      ],
      "metadata": {
        "id": "9a35w4sG8srw"
      }
    },
    {
      "cell_type": "markdown",
      "source": [
        "## Report"
      ],
      "metadata": {
        "id": "rzmHk3tn8vZu"
      }
    },
    {
      "cell_type": "code",
      "source": [
        "response = app.invoke({\"messages\": (\"user\", \"Can you generate the report?\")})"
      ],
      "metadata": {
        "id": "aevLuqxXQ76X"
      },
      "execution_count": 29,
      "outputs": []
    },
    {
      "cell_type": "code",
      "source": [
        "from IPython.display import display, Markdown\n",
        "\n",
        "display(Markdown(response['messages'][-1].content))"
      ],
      "metadata": {
        "id": "Hq4WEZJOuQ-A",
        "colab": {
          "base_uri": "https://localhost:8080/",
          "height": 1000
        },
        "outputId": "a831b4ca-b855-49cc-b8fe-a1f08f95933e"
      },
      "execution_count": 30,
      "outputs": [
        {
          "output_type": "display_data",
          "data": {
            "text/plain": [
              "<IPython.core.display.Markdown object>"
            ],
            "text/markdown": "# Financial Analysis Report\n\n## Dataset Overview\nThe dataset consists of 1664 companies across various sectors, including Basic Materials, Communication Services, Consumer Cyclical, Consumer Defensive, Energy, Financial Services, Healthcare, Industrials, Real Estate, Technology, and Utilities.\n\n![Sector Distribution](data:image/png;base64,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)\n\n## Company Overview\nThis report focuses on the top 5 companies in the analysis:\n\n1. Novo Nordisk A/S\n2. LVMH\n3. ASML Holding N.V. - New York Re\n4. SAP  SE\n5. HERMES INTL\n\n## Comparison Table\n| Company                         | Profit Margins |     ROE |     ROA |   P/E (Trailing) |   P/E (Forward) |\n|:--------------------------------|:-----------------:|--------:|--------:|-----------------:|----------------:|\n| Novo Nordisk A/S                |          0.34844 | 0.88572 | 0.22798 |          39.6763 |         28.0012 |\n| LVMH                            |          0.1631  | 0.2321  | 0.09632 |          21.3744 |         17.3051 |\n| ASML Holding N.V. - New York Re |          0.26399 | 0.49216 | 0.12707 |          35.7837 |         21.6779 |\n| SAP  SE                         |          0.07863 | 0.061   | 0.06575 |          96.9746 |         33.9555 |\n| HERMES INTL                     |          0.31286 | 0.31544 | 0.19178 |          48.1865 |         40.7976 |\n\nThe comparison table highlights the key financial metrics for each company. Novo Nordisk A/S has strong profit margins and high return on equity, while LVMH has lower profit margins but a low enterprise-to-EBITDA ratio. ASML Holding N.V. - New York Re has high return on equity but lower profit margins. SAP  SE has no notable strengths, while HERMES INTL has strong profit margins and high return on assets.\n\n## Company Analysis\n| Company                         | Strengths                                                                                                                             | Weaknesses                                                                                                                                |\n|:--------------------------------|:--------------------------------------------------------------------------------------------------------------------------------------|:------------------------------------------------------------------------------------------------------------------------------------------|\n| Novo Nordisk A/S                | strong profit margins (34.84%), high return on equity (88.57%), high return on assets (22.80%), low enterprise-to-EBITDA ratio (4.11) | higher P/E ratio compared to peers                                                                                                        |\n| LVMH                            | lower P/E ratio compared to peers, low enterprise-to-EBITDA ratio (14.15)                                                             | lower profit margins (16.31%), lower return on equity (23.21%)                                                                            |\n| ASML Holding N.V. - New York Re | high return on equity (49.22%), lower P/E ratio compared to peers                                                                     | lower profit margins (26.40%), high enterprise-to-EBITDA ratio (32.36)                                                                    |\n| SAP  SE                         | No notable strengths.                                                                                                                 | lower profit margins (7.86%), lower return on equity (6.10%), higher P/E ratio compared to peers, high enterprise-to-EBITDA ratio (32.70) |\n| HERMES INTL                     | strong profit margins (31.26%), high return on assets (19.18%)                                                         | no notable weaknesses mentioned in the dataset |\n\nThe company analysis highlights the strengths and weaknesses of each company. Novo Nordisk A/S has strong financial performance, while LVMH has a low enterprise-to-EBITDA ratio. ASML Holding N.V. - New York Re has high return on equity but lower profit margins. SAP  SE has no notable strengths, while HERMES INTL has strong profit margins and high return on assets.\n\n## Market Capitalization and Price History\n![Historical Distribution](data:image/png;base64,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)\n\n| Company                         |   marketCap |   fiftyTwoWeekLow |   fiftyTwoWeekHigh |   currentPrice |   priceSixMonthsAgo |    return |\n|:--------------------------------|------------:|------------------:|-------------------:|---------------:|--------------------:|----------:|\n| Novo Nordisk A/S                | 5.18733e+11 |             92.94 |             148.15 |         103.45 |              78.515 |  31.7583  |\n| LVMH                            | 3.05256e+11 |            578.8  |             886.4  |         733.6  |             855     | -14.1988  |\n| ASML Holding N.V. - New York Re | 3.20118e+11 |            573.86 |            1110.09 |         756.92 |             723.35  |   4.64091 |\n| SAP  SE                         | 2.68773e+11 |            127.3  |             232.23 |         154.59 |             134.43  |  14.9967  |\n| HERMES INTL                     | 2.14494e+11 |           1641    |            2436    |        1918.8  |            1962     |  -2.20183 |\n\nThe market capitalization and price history table provides an overview of the current market value and historical prices for each company. Novo Nordisk A/S has a high market capitalization, while LVMH has a low fifty-two week low. ASML Holding N.V. - New York Re has a high fifty-two week high, while SAP  SE has a relatively stable price history. HERMES INTL has a low return over the past six months.\n\n## Conclusion\nThis financial analysis report provides an overview of the top 5 companies in the dataset, including their key financial metrics, strengths and weaknesses, market capitalization, and price history. The results highlight the importance of considering multiple factors when evaluating a company's financial performance and potential for growth."
          },
          "metadata": {}
        }
      ]
    },
    {
      "cell_type": "markdown",
      "source": [
        "## Plot Historical Data"
      ],
      "metadata": {
        "id": "deBvIrox8xAE"
      }
    },
    {
      "cell_type": "code",
      "source": [
        "response = app.invoke({\"messages\": (\"user\", \"Can you plot the historical price data of NVO and ASML from February 2023 to July 2023?\")})"
      ],
      "metadata": {
        "id": "V9NMPObBvYmW"
      },
      "execution_count": 109,
      "outputs": []
    },
    {
      "cell_type": "code",
      "source": [
        "display(Markdown(response['messages'][-1].content))"
      ],
      "metadata": {
        "colab": {
          "base_uri": "https://localhost:8080/",
          "height": 87
        },
        "id": "WLuri7mP7XlL",
        "outputId": "e5960dc5-c525-410c-8e9d-35f546a583fa"
      },
      "execution_count": 110,
      "outputs": [
        {
          "output_type": "display_data",
          "data": {
            "text/plain": [
              "<IPython.core.display.Markdown object>"
            ],
            "text/markdown": "The historical price data plot for NVO and ASML from February 2023 to July 2023 has been generated and saved as a PNG image named \"historical_plot.png\". The plot displays the closing prices of both stocks over the specified time period. \n\nIf you would like to view the plot, please find it in the path where the tool call was executed."
          },
          "metadata": {}
        }
      ]
    },
    {
      "cell_type": "markdown",
      "source": [
        "## Get The Largest ..."
      ],
      "metadata": {
        "id": "wn59exerKQ4x"
      }
    },
    {
      "cell_type": "code",
      "source": [
        "response = app.invoke({\"messages\": (\"user\", \"What are the top 3 companies that has the largest Total Dept?\")})"
      ],
      "metadata": {
        "id": "A5bnUJUbHfPD"
      },
      "execution_count": 199,
      "outputs": []
    },
    {
      "cell_type": "code",
      "source": [
        "print(response['messages'][-1].content)"
      ],
      "metadata": {
        "colab": {
          "base_uri": "https://localhost:8080/"
        },
        "id": "fD6rCo7vDjSM",
        "outputId": "c1c91d65-535d-4dd7-f68b-651b57d757fb"
      },
      "execution_count": 205,
      "outputs": [
        {
          "output_type": "stream",
          "name": "stdout",
          "text": [
            "The top 3 companies with the largest Total Debt are:\n",
            "\n",
            "1. OTP Bank PLC - $5,769,124,000,000\n",
            "2. Svenska Handelsbanken ser. A - $1,734,517,000,000\n",
            "3. DANSKE BANK AS - $1,583,528,000,000\n"
          ]
        }
      ]
    },
    {
      "cell_type": "markdown",
      "source": [
        "## Search"
      ],
      "metadata": {
        "id": "FKbyPIgWal7s"
      }
    },
    {
      "cell_type": "code",
      "source": [
        "response = app.invoke({\"messages\": (\"user\", \"Can you provide me some details about Novo Nordisk A/S?\")})"
      ],
      "metadata": {
        "id": "TbOLW_KHV7JD"
      },
      "execution_count": 221,
      "outputs": []
    },
    {
      "cell_type": "code",
      "source": [
        "from IPython.display import Markdown\n",
        "\n",
        "display(Markdown(response['messages'][-1].content))"
      ],
      "metadata": {
        "colab": {
          "base_uri": "https://localhost:8080/",
          "height": 285
        },
        "id": "ajG0eptkWGVU",
        "outputId": "1e64d2d1-b62b-42a5-9c02-11d483e86670"
      },
      "execution_count": 222,
      "outputs": [
        {
          "output_type": "display_data",
          "data": {
            "text/plain": [
              "<IPython.core.display.Markdown object>"
            ],
            "text/markdown": "Novo Nordisk A/S (NVO) is a Danish multinational pharmaceutical company headquartered in Bagsværd, Denmark. Here are some key details about the company:\n\n**Founding and History**: Novo Nordisk was founded in 1923 by a group of Danish pharmacists.\n\n**Purpose**: The company's purpose is to drive change to defeat serious chronic diseases.\n\n**Business**: Novo Nordisk develops and produces medicines and solutions for diabetes, obesity, and other chronic diseases.\n\n**Headquarters**: The company is headquartered in Bagsværd, Denmark.\n\n**Grants and Initiatives**: Novo Nordisk has initiated various grants and initiatives to support research and development of new treatments for chronic diseases.\n\n**Stock Information**: As of my knowledge cutoff in 2023, the stock ticker for Novo Nordisk A/S is NVO. The company's market capitalization was approximately $123 billion USD.\n\n**R&D Pipeline**: Novo Nordisk has a robust R&D pipeline with several promising candidates in various stages of development, including semaglutide, which has shown significant efficacy in treating type 2 diabetes and obesity.\n\n**Career Opportunities**: Novo Nordisk offers various career opportunities in the pharmaceutical industry, including research and development, sales, marketing, and more."
          },
          "metadata": {}
        }
      ]
    },
    {
      "cell_type": "markdown",
      "source": [
        "## Statistics"
      ],
      "metadata": {
        "id": "BXUgd-h-xGbd"
      }
    },
    {
      "cell_type": "code",
      "source": [
        "response = app.invoke({\"messages\": (\"user\", \"Can you provide me the mean of the historical data of the ticker NVO?\")})"
      ],
      "metadata": {
        "id": "PhViIIKEWJjA"
      },
      "execution_count": 230,
      "outputs": []
    },
    {
      "cell_type": "code",
      "source": [
        "from IPython.display import Markdown\n",
        "\n",
        "print(response['messages'][-1].content)"
      ],
      "metadata": {
        "colab": {
          "base_uri": "https://localhost:8080/"
        },
        "id": "WeIgenmVxPHk",
        "outputId": "7c61bc7a-c254-4ea7-ca40-bfd05f8e8b23"
      },
      "execution_count": 231,
      "outputs": [
        {
          "output_type": "stream",
          "name": "stdout",
          "text": [
            "The mean of the historical data for the ticker NVO is $84.96.\n"
          ]
        }
      ]
    },
    {
      "cell_type": "code",
      "source": [
        "# Filter the DataFrame by the provided symbol\n",
        "filtered_data = historical_df[historical_df['symbol'] == 'NVO']\n",
        "\n",
        "\n",
        "# Get the descriptive statistics using .describe()\n",
        "description = filtered_data[['open','high','low', 'close', 'volume']].describe().round(2)"
      ],
      "metadata": {
        "id": "ApACtbHOxVBq"
      },
      "execution_count": 226,
      "outputs": []
    },
    {
      "cell_type": "code",
      "source": [
        "description"
      ],
      "metadata": {
        "colab": {
          "base_uri": "https://localhost:8080/",
          "height": 300
        },
        "id": "vjVXK9UGyBuq",
        "outputId": "95f69a0c-afb7-424a-dbb6-c92a737280b3"
      },
      "execution_count": 227,
      "outputs": [
        {
          "output_type": "execute_result",
          "data": {
            "text/plain": [
              "         open    high     low   close       volume\n",
              "count  250.00  250.00  250.00  250.00       250.00\n",
              "mean    84.90   85.60   84.21   84.96   3449923.60\n",
              "std     11.08   11.25   10.94   11.12   1982222.12\n",
              "min     65.50   66.31   65.05   66.17   1382000.00\n",
              "25%     77.79   78.56   77.28   78.29   2281700.00\n",
              "50%     82.82   83.19   82.13   82.76   2898000.00\n",
              "75%     95.49   96.22   94.69   95.20   3901650.00\n",
              "max    104.88  105.69  104.15  105.45  17822600.00"
            ],
            "text/html": [
              "\n",
              "  <div id=\"df-8f4360ad-fbf9-4c1b-91b7-19fbe9583709\" class=\"colab-df-container\">\n",
              "    <div>\n",
              "<style scoped>\n",
              "    .dataframe tbody tr th:only-of-type {\n",
              "        vertical-align: middle;\n",
              "    }\n",
              "\n",
              "    .dataframe tbody tr th {\n",
              "        vertical-align: top;\n",
              "    }\n",
              "\n",
              "    .dataframe thead th {\n",
              "        text-align: right;\n",
              "    }\n",
              "</style>\n",
              "<table border=\"1\" class=\"dataframe\">\n",
              "  <thead>\n",
              "    <tr style=\"text-align: right;\">\n",
              "      <th></th>\n",
              "      <th>open</th>\n",
              "      <th>high</th>\n",
              "      <th>low</th>\n",
              "      <th>close</th>\n",
              "      <th>volume</th>\n",
              "    </tr>\n",
              "  </thead>\n",
              "  <tbody>\n",
              "    <tr>\n",
              "      <th>count</th>\n",
              "      <td>250.00</td>\n",
              "      <td>250.00</td>\n",
              "      <td>250.00</td>\n",
              "      <td>250.00</td>\n",
              "      <td>250.00</td>\n",
              "    </tr>\n",
              "    <tr>\n",
              "      <th>mean</th>\n",
              "      <td>84.90</td>\n",
              "      <td>85.60</td>\n",
              "      <td>84.21</td>\n",
              "      <td>84.96</td>\n",
              "      <td>3449923.60</td>\n",
              "    </tr>\n",
              "    <tr>\n",
              "      <th>std</th>\n",
              "      <td>11.08</td>\n",
              "      <td>11.25</td>\n",
              "      <td>10.94</td>\n",
              "      <td>11.12</td>\n",
              "      <td>1982222.12</td>\n",
              "    </tr>\n",
              "    <tr>\n",
              "      <th>min</th>\n",
              "      <td>65.50</td>\n",
              "      <td>66.31</td>\n",
              "      <td>65.05</td>\n",
              "      <td>66.17</td>\n",
              "      <td>1382000.00</td>\n",
              "    </tr>\n",
              "    <tr>\n",
              "      <th>25%</th>\n",
              "      <td>77.79</td>\n",
              "      <td>78.56</td>\n",
              "      <td>77.28</td>\n",
              "      <td>78.29</td>\n",
              "      <td>2281700.00</td>\n",
              "    </tr>\n",
              "    <tr>\n",
              "      <th>50%</th>\n",
              "      <td>82.82</td>\n",
              "      <td>83.19</td>\n",
              "      <td>82.13</td>\n",
              "      <td>82.76</td>\n",
              "      <td>2898000.00</td>\n",
              "    </tr>\n",
              "    <tr>\n",
              "      <th>75%</th>\n",
              "      <td>95.49</td>\n",
              "      <td>96.22</td>\n",
              "      <td>94.69</td>\n",
              "      <td>95.20</td>\n",
              "      <td>3901650.00</td>\n",
              "    </tr>\n",
              "    <tr>\n",
              "      <th>max</th>\n",
              "      <td>104.88</td>\n",
              "      <td>105.69</td>\n",
              "      <td>104.15</td>\n",
              "      <td>105.45</td>\n",
              "      <td>17822600.00</td>\n",
              "    </tr>\n",
              "  </tbody>\n",
              "</table>\n",
              "</div>\n",
              "    <div class=\"colab-df-buttons\">\n",
              "\n",
              "  <div class=\"colab-df-container\">\n",
              "    <button class=\"colab-df-convert\" onclick=\"convertToInteractive('df-8f4360ad-fbf9-4c1b-91b7-19fbe9583709')\"\n",
              "            title=\"Convert this dataframe to an interactive table.\"\n",
              "            style=\"display:none;\">\n",
              "\n",
              "  <svg xmlns=\"http://www.w3.org/2000/svg\" height=\"24px\" viewBox=\"0 -960 960 960\">\n",
              "    <path d=\"M120-120v-720h720v720H120Zm60-500h600v-160H180v160Zm220 220h160v-160H400v160Zm0 220h160v-160H400v160ZM180-400h160v-160H180v160Zm440 0h160v-160H620v160ZM180-180h160v-160H180v160Zm440 0h160v-160H620v160Z\"/>\n",
              "  </svg>\n",
              "    </button>\n",
              "\n",
              "  <style>\n",
              "    .colab-df-container {\n",
              "      display:flex;\n",
              "      gap: 12px;\n",
              "    }\n",
              "\n",
              "    .colab-df-convert {\n",
              "      background-color: #E8F0FE;\n",
              "      border: none;\n",
              "      border-radius: 50%;\n",
              "      cursor: pointer;\n",
              "      display: none;\n",
              "      fill: #1967D2;\n",
              "      height: 32px;\n",
              "      padding: 0 0 0 0;\n",
              "      width: 32px;\n",
              "    }\n",
              "\n",
              "    .colab-df-convert:hover {\n",
              "      background-color: #E2EBFA;\n",
              "      box-shadow: 0px 1px 2px rgba(60, 64, 67, 0.3), 0px 1px 3px 1px rgba(60, 64, 67, 0.15);\n",
              "      fill: #174EA6;\n",
              "    }\n",
              "\n",
              "    .colab-df-buttons div {\n",
              "      margin-bottom: 4px;\n",
              "    }\n",
              "\n",
              "    [theme=dark] .colab-df-convert {\n",
              "      background-color: #3B4455;\n",
              "      fill: #D2E3FC;\n",
              "    }\n",
              "\n",
              "    [theme=dark] .colab-df-convert:hover {\n",
              "      background-color: #434B5C;\n",
              "      box-shadow: 0px 1px 3px 1px rgba(0, 0, 0, 0.15);\n",
              "      filter: drop-shadow(0px 1px 2px rgba(0, 0, 0, 0.3));\n",
              "      fill: #FFFFFF;\n",
              "    }\n",
              "  </style>\n",
              "\n",
              "    <script>\n",
              "      const buttonEl =\n",
              "        document.querySelector('#df-8f4360ad-fbf9-4c1b-91b7-19fbe9583709 button.colab-df-convert');\n",
              "      buttonEl.style.display =\n",
              "        google.colab.kernel.accessAllowed ? 'block' : 'none';\n",
              "\n",
              "      async function convertToInteractive(key) {\n",
              "        const element = document.querySelector('#df-8f4360ad-fbf9-4c1b-91b7-19fbe9583709');\n",
              "        const dataTable =\n",
              "          await google.colab.kernel.invokeFunction('convertToInteractive',\n",
              "                                                    [key], {});\n",
              "        if (!dataTable) return;\n",
              "\n",
              "        const docLinkHtml = 'Like what you see? Visit the ' +\n",
              "          '<a target=\"_blank\" href=https://colab.research.google.com/notebooks/data_table.ipynb>data table notebook</a>'\n",
              "          + ' to learn more about interactive tables.';\n",
              "        element.innerHTML = '';\n",
              "        dataTable['output_type'] = 'display_data';\n",
              "        await google.colab.output.renderOutput(dataTable, element);\n",
              "        const docLink = document.createElement('div');\n",
              "        docLink.innerHTML = docLinkHtml;\n",
              "        element.appendChild(docLink);\n",
              "      }\n",
              "    </script>\n",
              "  </div>\n",
              "\n",
              "\n",
              "<div id=\"df-2a968110-d169-4446-b520-958391d69080\">\n",
              "  <button class=\"colab-df-quickchart\" onclick=\"quickchart('df-2a968110-d169-4446-b520-958391d69080')\"\n",
              "            title=\"Suggest charts\"\n",
              "            style=\"display:none;\">\n",
              "\n",
              "<svg xmlns=\"http://www.w3.org/2000/svg\" height=\"24px\"viewBox=\"0 0 24 24\"\n",
              "     width=\"24px\">\n",
              "    <g>\n",
              "        <path d=\"M19 3H5c-1.1 0-2 .9-2 2v14c0 1.1.9 2 2 2h14c1.1 0 2-.9 2-2V5c0-1.1-.9-2-2-2zM9 17H7v-7h2v7zm4 0h-2V7h2v10zm4 0h-2v-4h2v4z\"/>\n",
              "    </g>\n",
              "</svg>\n",
              "  </button>\n",
              "\n",
              "<style>\n",
              "  .colab-df-quickchart {\n",
              "      --bg-color: #E8F0FE;\n",
              "      --fill-color: #1967D2;\n",
              "      --hover-bg-color: #E2EBFA;\n",
              "      --hover-fill-color: #174EA6;\n",
              "      --disabled-fill-color: #AAA;\n",
              "      --disabled-bg-color: #DDD;\n",
              "  }\n",
              "\n",
              "  [theme=dark] .colab-df-quickchart {\n",
              "      --bg-color: #3B4455;\n",
              "      --fill-color: #D2E3FC;\n",
              "      --hover-bg-color: #434B5C;\n",
              "      --hover-fill-color: #FFFFFF;\n",
              "      --disabled-bg-color: #3B4455;\n",
              "      --disabled-fill-color: #666;\n",
              "  }\n",
              "\n",
              "  .colab-df-quickchart {\n",
              "    background-color: var(--bg-color);\n",
              "    border: none;\n",
              "    border-radius: 50%;\n",
              "    cursor: pointer;\n",
              "    display: none;\n",
              "    fill: var(--fill-color);\n",
              "    height: 32px;\n",
              "    padding: 0;\n",
              "    width: 32px;\n",
              "  }\n",
              "\n",
              "  .colab-df-quickchart:hover {\n",
              "    background-color: var(--hover-bg-color);\n",
              "    box-shadow: 0 1px 2px rgba(60, 64, 67, 0.3), 0 1px 3px 1px rgba(60, 64, 67, 0.15);\n",
              "    fill: var(--button-hover-fill-color);\n",
              "  }\n",
              "\n",
              "  .colab-df-quickchart-complete:disabled,\n",
              "  .colab-df-quickchart-complete:disabled:hover {\n",
              "    background-color: var(--disabled-bg-color);\n",
              "    fill: var(--disabled-fill-color);\n",
              "    box-shadow: none;\n",
              "  }\n",
              "\n",
              "  .colab-df-spinner {\n",
              "    border: 2px solid var(--fill-color);\n",
              "    border-color: transparent;\n",
              "    border-bottom-color: var(--fill-color);\n",
              "    animation:\n",
              "      spin 1s steps(1) infinite;\n",
              "  }\n",
              "\n",
              "  @keyframes spin {\n",
              "    0% {\n",
              "      border-color: transparent;\n",
              "      border-bottom-color: var(--fill-color);\n",
              "      border-left-color: var(--fill-color);\n",
              "    }\n",
              "    20% {\n",
              "      border-color: transparent;\n",
              "      border-left-color: var(--fill-color);\n",
              "      border-top-color: var(--fill-color);\n",
              "    }\n",
              "    30% {\n",
              "      border-color: transparent;\n",
              "      border-left-color: var(--fill-color);\n",
              "      border-top-color: var(--fill-color);\n",
              "      border-right-color: var(--fill-color);\n",
              "    }\n",
              "    40% {\n",
              "      border-color: transparent;\n",
              "      border-right-color: var(--fill-color);\n",
              "      border-top-color: var(--fill-color);\n",
              "    }\n",
              "    60% {\n",
              "      border-color: transparent;\n",
              "      border-right-color: var(--fill-color);\n",
              "    }\n",
              "    80% {\n",
              "      border-color: transparent;\n",
              "      border-right-color: var(--fill-color);\n",
              "      border-bottom-color: var(--fill-color);\n",
              "    }\n",
              "    90% {\n",
              "      border-color: transparent;\n",
              "      border-bottom-color: var(--fill-color);\n",
              "    }\n",
              "  }\n",
              "</style>\n",
              "\n",
              "  <script>\n",
              "    async function quickchart(key) {\n",
              "      const quickchartButtonEl =\n",
              "        document.querySelector('#' + key + ' button');\n",
              "      quickchartButtonEl.disabled = true;  // To prevent multiple clicks.\n",
              "      quickchartButtonEl.classList.add('colab-df-spinner');\n",
              "      try {\n",
              "        const charts = await google.colab.kernel.invokeFunction(\n",
              "            'suggestCharts', [key], {});\n",
              "      } catch (error) {\n",
              "        console.error('Error during call to suggestCharts:', error);\n",
              "      }\n",
              "      quickchartButtonEl.classList.remove('colab-df-spinner');\n",
              "      quickchartButtonEl.classList.add('colab-df-quickchart-complete');\n",
              "    }\n",
              "    (() => {\n",
              "      let quickchartButtonEl =\n",
              "        document.querySelector('#df-2a968110-d169-4446-b520-958391d69080 button');\n",
              "      quickchartButtonEl.style.display =\n",
              "        google.colab.kernel.accessAllowed ? 'block' : 'none';\n",
              "    })();\n",
              "  </script>\n",
              "</div>\n",
              "\n",
              "  <div id=\"id_9287b994-96d4-4fff-8213-1a4128a5a8f6\">\n",
              "    <style>\n",
              "      .colab-df-generate {\n",
              "        background-color: #E8F0FE;\n",
              "        border: none;\n",
              "        border-radius: 50%;\n",
              "        cursor: pointer;\n",
              "        display: none;\n",
              "        fill: #1967D2;\n",
              "        height: 32px;\n",
              "        padding: 0 0 0 0;\n",
              "        width: 32px;\n",
              "      }\n",
              "\n",
              "      .colab-df-generate:hover {\n",
              "        background-color: #E2EBFA;\n",
              "        box-shadow: 0px 1px 2px rgba(60, 64, 67, 0.3), 0px 1px 3px 1px rgba(60, 64, 67, 0.15);\n",
              "        fill: #174EA6;\n",
              "      }\n",
              "\n",
              "      [theme=dark] .colab-df-generate {\n",
              "        background-color: #3B4455;\n",
              "        fill: #D2E3FC;\n",
              "      }\n",
              "\n",
              "      [theme=dark] .colab-df-generate:hover {\n",
              "        background-color: #434B5C;\n",
              "        box-shadow: 0px 1px 3px 1px rgba(0, 0, 0, 0.15);\n",
              "        filter: drop-shadow(0px 1px 2px rgba(0, 0, 0, 0.3));\n",
              "        fill: #FFFFFF;\n",
              "      }\n",
              "    </style>\n",
              "    <button class=\"colab-df-generate\" onclick=\"generateWithVariable('description')\"\n",
              "            title=\"Generate code using this dataframe.\"\n",
              "            style=\"display:none;\">\n",
              "\n",
              "  <svg xmlns=\"http://www.w3.org/2000/svg\" height=\"24px\"viewBox=\"0 0 24 24\"\n",
              "       width=\"24px\">\n",
              "    <path d=\"M7,19H8.4L18.45,9,17,7.55,7,17.6ZM5,21V16.75L18.45,3.32a2,2,0,0,1,2.83,0l1.4,1.43a1.91,1.91,0,0,1,.58,1.4,1.91,1.91,0,0,1-.58,1.4L9.25,21ZM18.45,9,17,7.55Zm-12,3A5.31,5.31,0,0,0,4.9,8.1,5.31,5.31,0,0,0,1,6.5,5.31,5.31,0,0,0,4.9,4.9,5.31,5.31,0,0,0,6.5,1,5.31,5.31,0,0,0,8.1,4.9,5.31,5.31,0,0,0,12,6.5,5.46,5.46,0,0,0,6.5,12Z\"/>\n",
              "  </svg>\n",
              "    </button>\n",
              "    <script>\n",
              "      (() => {\n",
              "      const buttonEl =\n",
              "        document.querySelector('#id_9287b994-96d4-4fff-8213-1a4128a5a8f6 button.colab-df-generate');\n",
              "      buttonEl.style.display =\n",
              "        google.colab.kernel.accessAllowed ? 'block' : 'none';\n",
              "\n",
              "      buttonEl.onclick = () => {\n",
              "        google.colab.notebook.generateWithVariable('description');\n",
              "      }\n",
              "      })();\n",
              "    </script>\n",
              "  </div>\n",
              "\n",
              "    </div>\n",
              "  </div>\n"
            ],
            "application/vnd.google.colaboratory.intrinsic+json": {
              "type": "dataframe",
              "variable_name": "description",
              "summary": "{\n  \"name\": \"description\",\n  \"rows\": 8,\n  \"fields\": [\n    {\n      \"column\": \"open\",\n      \"properties\": {\n        \"dtype\": \"number\",\n        \"std\": 68.20432637094429,\n        \"min\": 11.08,\n        \"max\": 250.0,\n        \"num_unique_values\": 8,\n        \"samples\": [\n          84.9,\n          82.82,\n          250.0\n        ],\n        \"semantic_type\": \"\",\n        \"description\": \"\"\n      }\n    },\n    {\n      \"column\": \"high\",\n      \"properties\": {\n        \"dtype\": \"number\",\n        \"std\": 68.07631091020471,\n        \"min\": 11.25,\n        \"max\": 250.0,\n        \"num_unique_values\": 8,\n        \"samples\": [\n          85.6,\n          83.19,\n          250.0\n        ],\n        \"semantic_type\": \"\",\n        \"description\": \"\"\n      }\n    },\n    {\n      \"column\": \"low\",\n      \"properties\": {\n        \"dtype\": \"number\",\n        \"std\": 68.30502887520697,\n        \"min\": 10.94,\n        \"max\": 250.0,\n        \"num_unique_values\": 8,\n        \"samples\": [\n          84.21,\n          82.13,\n          250.0\n        ],\n        \"semantic_type\": \"\",\n        \"description\": \"\"\n      }\n    },\n    {\n      \"column\": \"close\",\n      \"properties\": {\n        \"dtype\": \"number\",\n        \"std\": 68.1456253574442,\n        \"min\": 11.12,\n        \"max\": 250.0,\n        \"num_unique_values\": 8,\n        \"samples\": [\n          84.96,\n          82.76,\n          250.0\n        ],\n        \"semantic_type\": \"\",\n        \"description\": \"\"\n      }\n    },\n    {\n      \"column\": \"volume\",\n      \"properties\": {\n        \"dtype\": \"number\",\n        \"std\": 5632783.49172026,\n        \"min\": 250.0,\n        \"max\": 17822600.0,\n        \"num_unique_values\": 8,\n        \"samples\": [\n          3449923.6,\n          2898000.0,\n          250.0\n        ],\n        \"semantic_type\": \"\",\n        \"description\": \"\"\n      }\n    }\n  ]\n}"
            }
          },
          "metadata": {},
          "execution_count": 227
        }
      ]
    }
  ]
}